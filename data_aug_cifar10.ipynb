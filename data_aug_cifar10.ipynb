{
 "cells": [
  {
   "cell_type": "code",
   "execution_count": 1,
   "metadata": {},
   "outputs": [
    {
     "name": "stdout",
     "output_type": "stream",
     "text": [
      "1.14.0\n"
     ]
    }
   ],
   "source": [
    "import tensorflow as tf\n",
    "print(tf.__version__)"
   ]
  },
  {
   "cell_type": "code",
   "execution_count": 2,
   "metadata": {},
   "outputs": [
    {
     "name": "stderr",
     "output_type": "stream",
     "text": [
      "Using TensorFlow backend.\n"
     ]
    }
   ],
   "source": [
    "import keras\n",
    "from keras.datasets import cifar10\n",
    "from keras.preprocessing.image import ImageDataGenerator\n",
    "from keras.models import Sequential\n",
    "from keras.layers import Dense, Dropout, Activation, Flatten\n",
    "from keras.layers import Conv2D, MaxPooling2D\n",
    "import matplotlib.pyplot as plt\n",
    "import os"
   ]
  },
  {
   "cell_type": "code",
   "execution_count": 3,
   "metadata": {},
   "outputs": [],
   "source": [
    "batch_size = 32\n",
    "num_classes = 10\n",
    "epochs = 40\n",
    "data_augmentation = True\n",
    "num_predictions = 20\n",
    "save_dir = os.path.join(os.getcwd(), 'saved_models')\n",
    "model_name = 'keras_cifar10_trained_model.h5'"
   ]
  },
  {
   "cell_type": "code",
   "execution_count": 4,
   "metadata": {},
   "outputs": [
    {
     "name": "stdout",
     "output_type": "stream",
     "text": [
      "x_train shape: (50000, 32, 32, 3)\n",
      "50000 train samples\n",
      "10000 test samples\n",
      "uint8\n"
     ]
    }
   ],
   "source": [
    "(x_train, y_train), (x_test, y_test) = cifar10.load_data()\n",
    "print('x_train shape:', x_train.shape)\n",
    "print(x_train.shape[0], 'train samples')\n",
    "print(x_test.shape[0], 'test samples')\n",
    "print(x_train.dtype)"
   ]
  },
  {
   "cell_type": "code",
   "execution_count": 5,
   "metadata": {},
   "outputs": [],
   "source": [
    "y_train = keras.utils.to_categorical(y_train, num_classes)\n",
    "y_test = keras.utils.to_categorical(y_test, num_classes)"
   ]
  },
  {
   "cell_type": "code",
   "execution_count": 6,
   "metadata": {},
   "outputs": [],
   "source": [
    "def no_batch_norm():\n",
    "    model = Sequential()\n",
    "    model.add(Conv2D(32, (3, 3), padding='same',\n",
    "                     input_shape=x_train.shape[1:]))\n",
    "    model.add(Activation('relu'))\n",
    "    model.add(Conv2D(32, (3, 3)))\n",
    "    model.add(Activation('relu'))\n",
    "    model.add(MaxPooling2D(pool_size=(2, 2)))\n",
    "    model.add(Dropout(0.25))\n",
    "\n",
    "    model.add(Conv2D(64, (3, 3), padding='same'))\n",
    "    model.add(Activation('relu'))\n",
    "    model.add(Conv2D(64, (3, 3)))\n",
    "    model.add(Activation('relu'))\n",
    "    model.add(MaxPooling2D(pool_size=(2, 2)))\n",
    "    model.add(Dropout(0.25))\n",
    "\n",
    "    model.add(Flatten())\n",
    "    model.add(Dense(512))\n",
    "    model.add(Activation('relu'))\n",
    "    model.add(Dropout(0.5))\n",
    "    model.add(Dense(num_classes))\n",
    "    model.add(Activation('softmax'))\n",
    "    \n",
    "    print(type(model))\n",
    "    return model"
   ]
  },
  {
   "cell_type": "code",
   "execution_count": 8,
   "metadata": {},
   "outputs": [
    {
     "name": "stdout",
     "output_type": "stream",
     "text": [
      "<class 'keras.engine.sequential.Sequential'>\n"
     ]
    }
   ],
   "source": [
    "myModel = no_batch_norm()"
   ]
  },
  {
   "cell_type": "code",
   "execution_count": 9,
   "metadata": {},
   "outputs": [
    {
     "name": "stderr",
     "output_type": "stream",
     "text": [
      "W0726 06:32:40.438357 140633701771008 deprecation_wrapper.py:119] From /usr/local/lib/python3.5/dist-packages/keras/optimizers.py:790: The name tf.train.Optimizer is deprecated. Please use tf.compat.v1.train.Optimizer instead.\n",
      "\n",
      "W0726 06:32:40.446098 140633701771008 deprecation_wrapper.py:119] From /usr/local/lib/python3.5/dist-packages/keras/backend/tensorflow_backend.py:3295: The name tf.log is deprecated. Please use tf.math.log instead.\n",
      "\n"
     ]
    }
   ],
   "source": [
    "opt = keras.optimizers.rmsprop(lr=0.0001, decay=1e-6)\n",
    "\n",
    "myModel.compile(loss='categorical_crossentropy',\n",
    "              optimizer=opt,\n",
    "              metrics=['accuracy'])"
   ]
  },
  {
   "cell_type": "code",
   "execution_count": 10,
   "metadata": {},
   "outputs": [
    {
     "name": "stdout",
     "output_type": "stream",
     "text": [
      "float32\n",
      "[[[0.23137255 0.24313726 0.24705882]\n",
      "  [0.16862746 0.18039216 0.1764706 ]\n",
      "  [0.19607843 0.1882353  0.16862746]\n",
      "  [0.26666668 0.21176471 0.16470589]\n",
      "  [0.38431373 0.28627452 0.20392157]]\n",
      "\n",
      " [[0.0627451  0.07843138 0.07843138]\n",
      "  [0.         0.         0.        ]\n",
      "  [0.07058824 0.03137255 0.        ]\n",
      "  [0.2        0.10588235 0.03137255]\n",
      "  [0.34509805 0.2        0.08235294]]\n",
      "\n",
      " [[0.09803922 0.09411765 0.08235294]\n",
      "  [0.0627451  0.02745098 0.        ]\n",
      "  [0.19215687 0.10588235 0.03137255]\n",
      "  [0.3254902  0.19607843 0.09019608]\n",
      "  [0.43137255 0.28235295 0.16078432]]\n",
      "\n",
      " [[0.12941177 0.09803922 0.06666667]\n",
      "  [0.14901961 0.07843138 0.01568628]\n",
      "  [0.34117648 0.21176471 0.09803922]\n",
      "  [0.41568628 0.24705882 0.10980392]\n",
      "  [0.4509804  0.27450982 0.12941177]]\n",
      "\n",
      " [[0.19607843 0.1254902  0.08235294]\n",
      "  [0.23137255 0.1254902  0.04313726]\n",
      "  [0.4        0.25490198 0.13333334]\n",
      "  [0.49803922 0.30980393 0.15294118]\n",
      "  [0.4862745  0.3019608  0.14117648]]]\n"
     ]
    }
   ],
   "source": [
    "x_train = x_train.astype('float32')\n",
    "x_test = x_test.astype('float32')\n",
    "x_train /= 255\n",
    "x_test /= 255\n",
    "print(x_train.dtype)\n",
    "print(x_train[0,:5,:5])"
   ]
  },
  {
   "cell_type": "code",
   "execution_count": 11,
   "metadata": {},
   "outputs": [],
   "source": [
    "datagen = ImageDataGenerator(\n",
    "        featurewise_center=False,  # set input mean to 0 over the dataset\n",
    "        samplewise_center=False,  # set each sample mean to 0\n",
    "        featurewise_std_normalization=False,  # divide inputs by std of the dataset\n",
    "        samplewise_std_normalization=False,  # divide each input by its std\n",
    "        zca_whitening=False,  # apply ZCA whitening\n",
    "        zca_epsilon=1e-06,  # epsilon for ZCA whitening\n",
    "        rotation_range=20,  # randomly rotate images in the range (degrees, 0 to 180)\n",
    "        # randomly shift images horizontally (fraction of total width)\n",
    "        width_shift_range=0.1,\n",
    "        # randomly shift images vertically (fraction of total height)\n",
    "        height_shift_range=0.1,\n",
    "        shear_range=3,  # set range for random shear\n",
    "        zoom_range=0.,  # set range for random zoom\n",
    "        channel_shift_range=0.,  # set range for random channel shifts\n",
    "        # set mode for filling points outside the input boundaries\n",
    "        fill_mode='nearest',\n",
    "        cval=0.,  # value used for fill_mode = \"constant\"\n",
    "        horizontal_flip=True,  # randomly flip images\n",
    "        vertical_flip=False,  # randomly flip images\n",
    "        # set rescaling factor (applied before any other transformation)\n",
    "        rescale=None,\n",
    "        # set function that will be applied on each input\n",
    "        preprocessing_function=None,\n",
    "        # image data format, either \"channels_first\" or \"channels_last\"\n",
    "        data_format=None,\n",
    "        # fraction of images reserved for validation (strictly between 0 and 1)\n",
    "        validation_split=0.0)"
   ]
  },
  {
   "cell_type": "code",
   "execution_count": 12,
   "metadata": {},
   "outputs": [],
   "source": [
    "datagen.fit(x_train)"
   ]
  },
  {
   "cell_type": "code",
   "execution_count": 13,
   "metadata": {
    "scrolled": true
   },
   "outputs": [
    {
     "name": "stderr",
     "output_type": "stream",
     "text": [
      "W0726 06:32:50.576782 140633701771008 deprecation.py:323] From /usr/local/lib/python3.5/dist-packages/tensorflow/python/ops/math_grad.py:1250: add_dispatch_support.<locals>.wrapper (from tensorflow.python.ops.array_ops) is deprecated and will be removed in a future version.\n",
      "Instructions for updating:\n",
      "Use tf.where in 2.0, which has the same broadcast rule as np.where\n"
     ]
    },
    {
     "name": "stdout",
     "output_type": "stream",
     "text": [
      "Epoch 1/30\n",
      "520/520 [==============================] - 30s 58ms/step - loss: 1.9561 - acc: 0.2785 - val_loss: 1.6813 - val_acc: 0.4010\n",
      "Epoch 2/30\n",
      "520/520 [==============================] - 27s 52ms/step - loss: 1.7173 - acc: 0.3711 - val_loss: 1.5420 - val_acc: 0.4440\n",
      "Epoch 3/30\n",
      "520/520 [==============================] - 28s 53ms/step - loss: 1.6199 - acc: 0.4061 - val_loss: 1.4488 - val_acc: 0.4654\n",
      "Epoch 4/30\n",
      "520/520 [==============================] - 28s 53ms/step - loss: 1.5537 - acc: 0.4326 - val_loss: 1.3995 - val_acc: 0.4874\n",
      "Epoch 5/30\n",
      "520/520 [==============================] - 28s 53ms/step - loss: 1.5006 - acc: 0.4545 - val_loss: 1.3352 - val_acc: 0.5130\n",
      "Epoch 6/30\n",
      "520/520 [==============================] - 27s 52ms/step - loss: 1.4521 - acc: 0.4752 - val_loss: 1.3013 - val_acc: 0.5331\n",
      "Epoch 7/30\n",
      "520/520 [==============================] - 27s 53ms/step - loss: 1.4177 - acc: 0.4871 - val_loss: 1.2841 - val_acc: 0.5361\n",
      "Epoch 8/30\n",
      "520/520 [==============================] - 27s 53ms/step - loss: 1.3811 - acc: 0.5041 - val_loss: 1.2126 - val_acc: 0.5693\n",
      "Epoch 9/30\n",
      "520/520 [==============================] - 27s 53ms/step - loss: 1.3477 - acc: 0.5182 - val_loss: 1.2104 - val_acc: 0.5643\n",
      "Epoch 10/30\n",
      "520/520 [==============================] - 27s 53ms/step - loss: 1.3197 - acc: 0.5292 - val_loss: 1.1754 - val_acc: 0.5766\n",
      "Epoch 11/30\n",
      "520/520 [==============================] - 27s 53ms/step - loss: 1.2852 - acc: 0.5408 - val_loss: 1.1652 - val_acc: 0.5807\n",
      "Epoch 12/30\n",
      "520/520 [==============================] - 28s 53ms/step - loss: 1.2619 - acc: 0.5494 - val_loss: 1.1103 - val_acc: 0.6059\n",
      "Epoch 13/30\n",
      "520/520 [==============================] - 28s 53ms/step - loss: 1.2396 - acc: 0.5563 - val_loss: 1.1237 - val_acc: 0.6029\n",
      "Epoch 14/30\n",
      "520/520 [==============================] - 28s 53ms/step - loss: 1.2137 - acc: 0.5677 - val_loss: 1.0376 - val_acc: 0.6356\n",
      "Epoch 15/30\n",
      "520/520 [==============================] - 28s 53ms/step - loss: 1.1972 - acc: 0.5766 - val_loss: 1.0268 - val_acc: 0.6389\n",
      "Epoch 16/30\n",
      "520/520 [==============================] - 28s 55ms/step - loss: 1.1800 - acc: 0.5821 - val_loss: 1.0459 - val_acc: 0.6353\n",
      "Epoch 17/30\n",
      "520/520 [==============================] - 28s 53ms/step - loss: 1.1575 - acc: 0.5924 - val_loss: 1.0741 - val_acc: 0.6252\n",
      "Epoch 18/30\n",
      "520/520 [==============================] - 27s 53ms/step - loss: 1.1459 - acc: 0.5938 - val_loss: 1.0160 - val_acc: 0.6450\n",
      "Epoch 19/30\n",
      "520/520 [==============================] - 28s 53ms/step - loss: 1.1288 - acc: 0.5992 - val_loss: 1.1119 - val_acc: 0.6150\n",
      "Epoch 20/30\n",
      "520/520 [==============================] - 27s 53ms/step - loss: 1.1155 - acc: 0.6059 - val_loss: 0.9943 - val_acc: 0.6556\n",
      "Epoch 21/30\n",
      "520/520 [==============================] - 27s 53ms/step - loss: 1.1021 - acc: 0.6129 - val_loss: 0.9608 - val_acc: 0.6611\n",
      "Epoch 22/30\n",
      "520/520 [==============================] - 28s 53ms/step - loss: 1.0903 - acc: 0.6138 - val_loss: 0.9406 - val_acc: 0.6712\n",
      "Epoch 23/30\n",
      "520/520 [==============================] - 28s 53ms/step - loss: 1.0774 - acc: 0.6192 - val_loss: 1.0286 - val_acc: 0.6478\n",
      "Epoch 24/30\n",
      "520/520 [==============================] - 27s 53ms/step - loss: 1.0681 - acc: 0.6218 - val_loss: 0.9594 - val_acc: 0.6690\n",
      "Epoch 25/30\n",
      "520/520 [==============================] - 28s 53ms/step - loss: 1.0571 - acc: 0.6267 - val_loss: 0.9919 - val_acc: 0.6545\n",
      "Epoch 26/30\n",
      "520/520 [==============================] - 28s 53ms/step - loss: 1.0436 - acc: 0.6323 - val_loss: 0.9307 - val_acc: 0.6770\n",
      "Epoch 27/30\n",
      "520/520 [==============================] - 28s 53ms/step - loss: 1.0356 - acc: 0.6329 - val_loss: 0.9500 - val_acc: 0.6689\n",
      "Epoch 28/30\n",
      "520/520 [==============================] - 28s 53ms/step - loss: 1.0284 - acc: 0.6360 - val_loss: 0.9795 - val_acc: 0.6629\n",
      "Epoch 29/30\n",
      "520/520 [==============================] - 27s 53ms/step - loss: 1.0136 - acc: 0.6379 - val_loss: 0.9018 - val_acc: 0.6864\n",
      "Epoch 30/30\n",
      "520/520 [==============================] - 28s 53ms/step - loss: 1.0068 - acc: 0.6443 - val_loss: 0.9168 - val_acc: 0.6893\n"
     ]
    }
   ],
   "source": [
    "## Using a data generator <May limit the GPU performance because GPU is too fast>\n",
    "## This version has data augmentation\n",
    "history = myModel.fit_generator(datagen.flow(x_train, y_train,\n",
    "                                 batch_size=batch_size*3),\n",
    "                                steps_per_epoch= x_train.shape[0] //(batch_size*3),\n",
    "                    epochs=30,\n",
    "                    validation_data=(x_test, y_test),\n",
    "                    workers=8)\n"
   ]
  },
  {
   "cell_type": "code",
   "execution_count": 14,
   "metadata": {},
   "outputs": [],
   "source": [
    "if not os.path.isdir(\"./models\"):\n",
    "    os.makedirs(\"./models\")\n",
    "myModel_save_path = \"./models/model_generator_aug.hdf5\"\n",
    "myModel.save(myModel_save_path)"
   ]
  },
  {
   "cell_type": "code",
   "execution_count": 15,
   "metadata": {},
   "outputs": [
    {
     "name": "stdout",
     "output_type": "stream",
     "text": [
      "10000/10000 [==============================] - 1s 62us/step\n",
      "Test loss: 0.9167513407707214\n",
      "Test accuracy: 0.6893\n"
     ]
    }
   ],
   "source": [
    "scores = myModel.evaluate(x_test, y_test, verbose=1)\n",
    "print('Test loss:', scores[0])\n",
    "print('Test accuracy:', scores[1])"
   ]
  },
  {
   "cell_type": "code",
   "execution_count": 16,
   "metadata": {},
   "outputs": [
    {
     "data": {
      "image/png": "[encoded data removed]",
      "text/plain": [
       "<Figure size 432x288 with 1 Axes>"
      ]
     },
     "metadata": {
      "needs_background": "light"
     },
     "output_type": "display_data"
    }
   ],
   "source": [
    "# Plot training & validation loss values\n",
    "plt.plot(history.history['loss'])\n",
    "plt.plot(history.history['val_loss'])\n",
    "plt.title('Model loss')\n",
    "plt.ylabel('Loss')\n",
    "plt.xlabel('Epoch')\n",
    "plt.legend(['Train', 'Test'], loc='upper left')\n",
    "plt.show()"
   ]
  },
  {
   "cell_type": "code",
   "execution_count": 17,
   "metadata": {},
   "outputs": [
    {
     "name": "stdout",
     "output_type": "stream",
     "text": [
      "<class 'keras.engine.sequential.Sequential'>\n"
     ]
    }
   ],
   "source": [
    "#REDEFINE and re-compile the model here, and run for the same 30 epochs.\n",
    "myModel = no_batch_norm()\n",
    "opt = keras.optimizers.rmsprop(lr=0.0001, decay=1e-6)\n",
    "\n",
    "myModel.compile(loss='categorical_crossentropy',\n",
    "              optimizer=opt,\n",
    "              metrics=['accuracy'])"
   ]
  },
  {
   "cell_type": "code",
   "execution_count": 18,
   "metadata": {
    "scrolled": true
   },
   "outputs": [
    {
     "name": "stdout",
     "output_type": "stream",
     "text": [
      "Train on 50000 samples, validate on 10000 samples\n",
      "Epoch 1/30\n",
      "50000/50000 [==============================] - 5s 107us/step - loss: 1.9308 - acc: 0.2903 - val_loss: 1.6814 - val_acc: 0.3934\n",
      "Epoch 2/30\n",
      "50000/50000 [==============================] - 5s 96us/step - loss: 1.6469 - acc: 0.3993 - val_loss: 1.4953 - val_acc: 0.4588\n",
      "Epoch 3/30\n",
      "50000/50000 [==============================] - 5s 96us/step - loss: 1.5243 - acc: 0.4448 - val_loss: 1.4067 - val_acc: 0.4908\n",
      "Epoch 4/30\n",
      "50000/50000 [==============================] - 5s 96us/step - loss: 1.4355 - acc: 0.4821 - val_loss: 1.3263 - val_acc: 0.5252\n",
      "Epoch 5/30\n",
      "50000/50000 [==============================] - 5s 97us/step - loss: 1.3746 - acc: 0.5057 - val_loss: 1.2934 - val_acc: 0.5372\n",
      "Epoch 6/30\n",
      "50000/50000 [==============================] - 5s 97us/step - loss: 1.3193 - acc: 0.5269 - val_loss: 1.2263 - val_acc: 0.5666\n",
      "Epoch 7/30\n",
      "50000/50000 [==============================] - 5s 96us/step - loss: 1.2681 - acc: 0.5489 - val_loss: 1.1870 - val_acc: 0.5777\n",
      "Epoch 8/30\n",
      "50000/50000 [==============================] - 5s 96us/step - loss: 1.2231 - acc: 0.5641 - val_loss: 1.1327 - val_acc: 0.6042\n",
      "Epoch 9/30\n",
      "50000/50000 [==============================] - 5s 97us/step - loss: 1.1814 - acc: 0.5806 - val_loss: 1.1044 - val_acc: 0.6145\n",
      "Epoch 10/30\n",
      "50000/50000 [==============================] - 5s 100us/step - loss: 1.1453 - acc: 0.5971 - val_loss: 1.0692 - val_acc: 0.6221\n",
      "Epoch 11/30\n",
      "50000/50000 [==============================] - 5s 97us/step - loss: 1.1057 - acc: 0.6088 - val_loss: 1.0227 - val_acc: 0.6444\n",
      "Epoch 12/30\n",
      "50000/50000 [==============================] - 5s 97us/step - loss: 1.0732 - acc: 0.6204 - val_loss: 1.0400 - val_acc: 0.6386\n",
      "Epoch 13/30\n",
      "50000/50000 [==============================] - 5s 97us/step - loss: 1.0447 - acc: 0.6291 - val_loss: 0.9867 - val_acc: 0.6534\n",
      "Epoch 14/30\n",
      "50000/50000 [==============================] - 5s 96us/step - loss: 1.0198 - acc: 0.6409 - val_loss: 0.9530 - val_acc: 0.6652\n",
      "Epoch 15/30\n",
      "50000/50000 [==============================] - 5s 96us/step - loss: 0.9891 - acc: 0.6538 - val_loss: 0.9235 - val_acc: 0.6772\n",
      "Epoch 16/30\n",
      "50000/50000 [==============================] - 5s 96us/step - loss: 0.9642 - acc: 0.6610 - val_loss: 0.9017 - val_acc: 0.6870\n",
      "Epoch 17/30\n",
      "50000/50000 [==============================] - 5s 96us/step - loss: 0.9407 - acc: 0.6686 - val_loss: 0.8785 - val_acc: 0.6968\n",
      "Epoch 18/30\n",
      "50000/50000 [==============================] - 5s 98us/step - loss: 0.9209 - acc: 0.6785 - val_loss: 0.8747 - val_acc: 0.7004\n",
      "Epoch 19/30\n",
      "50000/50000 [==============================] - 5s 96us/step - loss: 0.9039 - acc: 0.6844 - val_loss: 0.8429 - val_acc: 0.7104\n",
      "Epoch 20/30\n",
      "50000/50000 [==============================] - 5s 96us/step - loss: 0.8841 - acc: 0.6889 - val_loss: 0.8626 - val_acc: 0.7031\n",
      "Epoch 21/30\n",
      "50000/50000 [==============================] - 5s 96us/step - loss: 0.8668 - acc: 0.6980 - val_loss: 0.8264 - val_acc: 0.7141\n",
      "Epoch 22/30\n",
      "50000/50000 [==============================] - 5s 98us/step - loss: 0.8488 - acc: 0.7025 - val_loss: 0.7986 - val_acc: 0.7281\n",
      "Epoch 23/30\n",
      "50000/50000 [==============================] - 5s 96us/step - loss: 0.8377 - acc: 0.7087 - val_loss: 0.8148 - val_acc: 0.7199\n",
      "Epoch 24/30\n",
      "50000/50000 [==============================] - 5s 96us/step - loss: 0.8180 - acc: 0.7154 - val_loss: 0.7875 - val_acc: 0.7297\n",
      "Epoch 25/30\n",
      "50000/50000 [==============================] - 5s 96us/step - loss: 0.8016 - acc: 0.7170 - val_loss: 0.7855 - val_acc: 0.7318\n",
      "Epoch 26/30\n",
      "50000/50000 [==============================] - 5s 97us/step - loss: 0.7857 - acc: 0.7257 - val_loss: 0.7814 - val_acc: 0.7350\n",
      "Epoch 27/30\n",
      "50000/50000 [==============================] - 5s 97us/step - loss: 0.7784 - acc: 0.7295 - val_loss: 0.7713 - val_acc: 0.7387\n",
      "Epoch 28/30\n",
      "50000/50000 [==============================] - 5s 96us/step - loss: 0.7660 - acc: 0.7347 - val_loss: 0.7606 - val_acc: 0.7373\n",
      "Epoch 29/30\n",
      "50000/50000 [==============================] - 5s 92us/step - loss: 0.7534 - acc: 0.7378 - val_loss: 0.7499 - val_acc: 0.7430\n",
      "Epoch 30/30\n",
      "50000/50000 [==============================] - 5s 96us/step - loss: 0.7406 - acc: 0.7438 - val_loss: 0.7474 - val_acc: 0.7418\n"
     ]
    }
   ],
   "source": [
    "## Direcly using \n",
    "history_no_generator = myModel.fit(x_train, y_train,\n",
    "                                 batch_size=batch_size*3,\n",
    "                    epochs=30,\n",
    "                    validation_data=(x_test, y_test))\n"
   ]
  },
  {
   "cell_type": "code",
   "execution_count": 19,
   "metadata": {},
   "outputs": [],
   "source": [
    "if not os.path.isdir(\"./models\"):\n",
    "    os.makedirs(\"./models\")\n",
    "myModel_save_path = \"./models/model_without_generator.hdf5\"\n",
    "myModel.save(myModel_save_path)"
   ]
  },
  {
   "cell_type": "code",
   "execution_count": 20,
   "metadata": {
    "scrolled": true
   },
   "outputs": [
    {
     "name": "stdout",
     "output_type": "stream",
     "text": [
      "10000/10000 [==============================] - 1s 73us/step\n",
      "Test loss: 0.7474028034210205\n",
      "Test accuracy: 0.7418\n"
     ]
    }
   ],
   "source": [
    "scores = myModel.evaluate(x_test, y_test, verbose=1)\n",
    "print('Test loss:', scores[0])\n",
    "print('Test accuracy:', scores[1])"
   ]
  },
  {
   "cell_type": "code",
   "execution_count": 21,
   "metadata": {},
   "outputs": [
    {
     "data": {
      "image/png": "[encoded data removed]",
      "text/plain": [
       "<Figure size 432x288 with 1 Axes>"
      ]
     },
     "metadata": {
      "needs_background": "light"
     },
     "output_type": "display_data"
    }
   ],
   "source": [
    "# Plot training & validation loss values\n",
    "plt.plot(history.history['loss'])\n",
    "plt.plot(history.history['val_loss'])\n",
    "plt.title('Model loss')\n",
    "plt.ylabel('Loss')\n",
    "plt.xlabel('Epoch')\n",
    "plt.legend(['Train', 'Test'], loc='upper left')\n",
    "plt.show()"
   ]
  },
  {
   "cell_type": "markdown",
   "metadata": {},
   "source": [
    "### Data Augmentation Visualization"
   ]
  },
  {
   "cell_type": "code",
   "execution_count": 22,
   "metadata": {
    "scrolled": false
   },
   "outputs": [
    {
     "name": "stdout",
     "output_type": "stream",
     "text": [
      ".\t\t\t.git\t\t    Pioneer_main.ipynb\n",
      "..\t\t\t.ipynb_checkpoints  Skimage_learning.ipynb\n",
      "data_aug_cifar10.ipynb\tmodels\t\t    skimage_nupmy.ipynb\n",
      "\n",
      "\n",
      ".\t\t\t.git\t\t    Pioneer_main.ipynb\n",
      "..\t\t\t.ipynb_checkpoints  Skimage_learning.ipynb\n",
      "data_aug_cifar10.ipynb\tmodels\t\t    skimage_nupmy.ipynb\n"
     ]
    }
   ],
   "source": [
    "!ls -a\n",
    "!echo \"\"\n",
    "!rm -rf ./augmented_pictures/\n",
    "!echo \"\"\n",
    "!ls -a"
   ]
  },
  {
   "cell_type": "code",
   "execution_count": 29,
   "metadata": {},
   "outputs": [],
   "source": [
    "#Visualize some results of data augmentation\n",
    "import matplotlib.pyplot as plt\n",
    "import PIL\n",
    "\n",
    "SAVE_PATH = \"./augmented_pictures/\"\n",
    "    \n",
    "def output_augmented(num):\n",
    "    img = None\n",
    "    sub_img= None\n",
    "    name_list = None\n",
    "\n",
    "    if not os.path.isdir(SAVE_PATH):\n",
    "        os.makedirs(SAVE_PATH)\n",
    "\n",
    "    gen_data = datagen.flow(x_train, \n",
    "                                           batch_size=1, \n",
    "                                           shuffle=False, \n",
    "                                           save_to_dir=SAVE_PATH,\n",
    "                                           save_prefix=('generated'+ str(num)))\n",
    "    for i in range(9):\n",
    "        gen_data.next() \n",
    "    \n",
    "# name_list = os.listdir(SAVE_PATH)\n",
    "# # print(name_list)\n",
    "# fig = plt.figure()\n",
    "\n",
    "# for i in range(len(name_list)):\n",
    "#     img = PIL.Image.open(SAVE_PATH+name_list[i])\n",
    "#     sub_img = fig.add_subplot(331 + i)\n",
    "#     sub_img.imshow(img)\n",
    "    \n",
    "# plt.show()\n",
    "\n",
    "    "
   ]
  },
  {
   "cell_type": "code",
   "execution_count": 30,
   "metadata": {},
   "outputs": [],
   "source": [
    "for i in range(5):\n",
    "    output_augmented(i)\n",
    "    name_list = os.listdir(SAVE_PATH)\n",
    "#     fig = plt.figure()\n",
    "#     for i in range(len(name_list)):\n",
    "#     img = PIL.Image.open(SAVE_PATH+name_list[i])\n",
    "#     sub_img = fig.add_subplot(331 + i)\n",
    "#     sub_img.imshow(img)\n",
    "    "
   ]
  },
  {
   "cell_type": "markdown",
   "metadata": {},
   "source": [
    "### Data Augmentation for Semantic Segmentation\n",
    "This section will look at how different approaches can be used to augment the image data, generating the same transformations for both the image and the mask."
   ]
  },
  {
   "cell_type": "code",
   "execution_count": 31,
   "metadata": {},
   "outputs": [],
   "source": [
    "segmentation_datagen = ImageDataGenerator(\n",
    "        featurewise_center=False,  # set input mean to 0 over the dataset\n",
    "        samplewise_center=False,  # set each sample mean to 0\n",
    "        featurewise_std_normalization=False,  # divide inputs by std of the dataset\n",
    "        samplewise_std_normalization=False,  # divide each input by its std\n",
    "        zca_whitening=False,  # apply ZCA whitening\n",
    "        zca_epsilon=1e-06,  # epsilon for ZCA whitening\n",
    "        rotation_range=20,  # randomly rotate images in the range (degrees, 0 to 180)\n",
    "        shear_range=0.2,  # set range for random shear\n",
    "        zoom_range=0.,  # set range for random zoom\n",
    "        channel_shift_range=0.,  # set range for random channel shifts\n",
    "        # set mode for filling points outside the input boundaries\n",
    "        fill_mode='nearest',\n",
    "        cval=0.,  # value used for fill_mode = \"constant\"\n",
    "        horizontal_flip=True,  # randomly flip images\n",
    "        vertical_flip=False,  # randomly flip images\n",
    "        # set rescaling factor (applied before any other transformation)\n",
    "        rescale=None,\n",
    "        # set function that will be applied on each input\n",
    "        preprocessing_function=None,\n",
    "        # image data format, either \"channels_first\" or \"channels_last\"\n",
    "        data_format=None,\n",
    "        # fraction of images reserved for validation (strictly between 0 and 1)\n",
    "        validation_split=0.0)"
   ]
  },
  {
   "cell_type": "code",
   "execution_count": null,
   "metadata": {},
   "outputs": [],
   "source": [
    "#Define two folders for saving the image and mask together\n",
    "save_img_path = \"./augmented_images\"\n",
    "save_mask_path = \"./augmented_masks\"\n",
    "\n",
    "seed = 34\n",
    "\n",
    "for counter in range(10): # Generate 20 pairs of images and mask, 2 pairs for each iteration\n",
    "    # The seed stays unchanged, but image_generator and mask_generator are re-initialized every time\n",
    "    # This is to make sure that every time the 2 images and 2 masks are generated \n",
    "    image_generator = segmentation_datagen.flow(x_train,\n",
    "                                            batch_size=1, \n",
    "                                            shuffle=False, \n",
    "                                            save_to_dir=SAVE_PATH,\n",
    "                                            save_prefix=('image_'+ str(num)),\n",
    "                                            seed=seed)\n",
    "\n",
    "    mask_generator = segmentation_datagen.flow(x_train,\n",
    "                                                batch_size=1, \n",
    "                                                shuffle=False, \n",
    "                                                save_to_dir=SAVE_PATH,\n",
    "                                                save_prefix=('mask_'+ str(num)),\n",
    "                                                seed=seed)\n",
    "    \n",
    "    \n"
   ]
  }
 ],
 "metadata": {
  "kernelspec": {
   "display_name": "Python 3",
   "language": "python",
   "name": "python3"
  },
  "language_info": {
   "codemirror_mode": {
    "name": "ipython",
    "version": 3
   },
   "file_extension": ".py",
   "mimetype": "text/x-python",
   "name": "python",
   "nbconvert_exporter": "python",
   "pygments_lexer": "ipython3",
   "version": "3.5.3"
  }
 },
 "nbformat": 4,
 "nbformat_minor": 2
}
