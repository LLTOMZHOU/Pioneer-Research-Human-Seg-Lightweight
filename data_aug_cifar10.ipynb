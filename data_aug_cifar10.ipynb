{
 "cells": [
  {
   "cell_type": "code",
   "execution_count": 1,
   "metadata": {},
   "outputs": [
    {
     "name": "stdout",
     "output_type": "stream",
     "text": [
      "1.14.0\n"
     ]
    }
   ],
   "source": [
    "import tensorflow as tf\n",
    "print(tf.__version__)"
   ]
  },
  {
   "cell_type": "code",
   "execution_count": 11,
   "metadata": {},
   "outputs": [],
   "source": [
    "import keras\n",
    "from keras.datasets import cifar10\n",
    "from keras.preprocessing.image import ImageDataGenerator\n",
    "from keras.models import Sequential\n",
    "from keras.layers import Dense, Dropout, Activation, Flatten\n",
    "from keras.layers import Conv2D, MaxPooling2D\n",
    "import matplotlib.pyplot as plt\n",
    "import os"
   ]
  },
  {
   "cell_type": "code",
   "execution_count": 12,
   "metadata": {},
   "outputs": [],
   "source": [
    "batch_size = 32\n",
    "num_classes = 10\n",
    "epochs = 40\n",
    "data_augmentation = True\n",
    "num_predictions = 20\n",
    "save_dir = os.path.join(os.getcwd(), 'saved_models')\n",
    "model_name = 'keras_cifar10_trained_model.h5'"
   ]
  },
  {
   "cell_type": "code",
   "execution_count": 13,
   "metadata": {},
   "outputs": [
    {
     "name": "stdout",
     "output_type": "stream",
     "text": [
      "x_train shape: (50000, 32, 32, 3)\n",
      "50000 train samples\n",
      "10000 test samples\n",
      "uint8\n"
     ]
    }
   ],
   "source": [
    "(x_train, y_train), (x_test, y_test) = cifar10.load_data()\n",
    "print('x_train shape:', x_train.shape)\n",
    "print(x_train.shape[0], 'train samples')\n",
    "print(x_test.shape[0], 'test samples')\n",
    "print(x_train.dtype)"
   ]
  },
  {
   "cell_type": "code",
   "execution_count": 14,
   "metadata": {},
   "outputs": [
    {
     "name": "stdout",
     "output_type": "stream",
     "text": [
      "[[6]\n",
      " [9]\n",
      " [9]\n",
      " [4]\n",
      " [1]\n",
      " [1]\n",
      " [2]\n",
      " [7]\n",
      " [8]\n",
      " [3]]\n",
      "(50000, 1)\n",
      "__this is after keras.utils.to_categorical__\n",
      "[[0. 0. 0. 0. 0. 0. 1. 0. 0. 0.]\n",
      " [0. 0. 0. 0. 0. 0. 0. 0. 0. 1.]\n",
      " [0. 0. 0. 0. 0. 0. 0. 0. 0. 1.]\n",
      " [0. 0. 0. 0. 1. 0. 0. 0. 0. 0.]\n",
      " [0. 1. 0. 0. 0. 0. 0. 0. 0. 0.]\n",
      " [0. 1. 0. 0. 0. 0. 0. 0. 0. 0.]\n",
      " [0. 0. 1. 0. 0. 0. 0. 0. 0. 0.]\n",
      " [0. 0. 0. 0. 0. 0. 0. 1. 0. 0.]\n",
      " [0. 0. 0. 0. 0. 0. 0. 0. 1. 0.]\n",
      " [0. 0. 0. 1. 0. 0. 0. 0. 0. 0.]]\n",
      "(50000, 10)\n"
     ]
    }
   ],
   "source": [
    "\n",
    "print(y_train[:10])\n",
    "print(y_train.shape)\n",
    "\n",
    "y_train = keras.utils.to_categorical(y_train, num_classes)\n",
    "y_test = keras.utils.to_categorical(y_test, num_classes)\n",
    "\n",
    "print(\"__this is after keras.utils.to_categorical__\")\n",
    "print(y_train[:10])\n",
    "print(y_train.shape)"
   ]
  },
  {
   "cell_type": "code",
   "execution_count": 17,
   "metadata": {},
   "outputs": [],
   "source": [
    "def no_batch_norm():\n",
    "    model = Sequential()\n",
    "    model.add(Conv2D(32, (3, 3), padding='same',\n",
    "                     input_shape=x_train.shape[1:]))\n",
    "    model.add(Activation('relu'))\n",
    "    model.add(Conv2D(32, (3, 3)))\n",
    "    model.add(Activation('relu'))\n",
    "    model.add(MaxPooling2D(pool_size=(2, 2)))\n",
    "    model.add(Dropout(0.25))\n",
    "\n",
    "    model.add(Conv2D(64, (3, 3), padding='same'))\n",
    "    model.add(Activation('relu'))\n",
    "    model.add(Conv2D(64, (3, 3)))\n",
    "    model.add(Activation('relu'))\n",
    "    model.add(MaxPooling2D(pool_size=(2, 2)))\n",
    "    model.add(Dropout(0.25))\n",
    "\n",
    "    model.add(Flatten())\n",
    "    model.add(Dense(512))\n",
    "    model.add(Activation('relu'))\n",
    "    model.add(Dropout(0.5))\n",
    "    model.add(Dense(num_classes))\n",
    "    model.add(Activation('softmax'))\n",
    "    \n",
    "    print(type(model))\n",
    "    model.summary()\n",
    "    return model"
   ]
  },
  {
   "cell_type": "code",
   "execution_count": 18,
   "metadata": {},
   "outputs": [
    {
     "name": "stdout",
     "output_type": "stream",
     "text": [
      "<class 'keras.engine.sequential.Sequential'>\n",
      "_________________________________________________________________\n",
      "Layer (type)                 Output Shape              Param #   \n",
      "=================================================================\n",
      "conv2d_5 (Conv2D)            (None, 32, 32, 32)        896       \n",
      "_________________________________________________________________\n",
      "activation_7 (Activation)    (None, 32, 32, 32)        0         \n",
      "_________________________________________________________________\n",
      "conv2d_6 (Conv2D)            (None, 30, 30, 32)        9248      \n",
      "_________________________________________________________________\n",
      "activation_8 (Activation)    (None, 30, 30, 32)        0         \n",
      "_________________________________________________________________\n",
      "max_pooling2d_3 (MaxPooling2 (None, 15, 15, 32)        0         \n",
      "_________________________________________________________________\n",
      "dropout_4 (Dropout)          (None, 15, 15, 32)        0         \n",
      "_________________________________________________________________\n",
      "conv2d_7 (Conv2D)            (None, 15, 15, 64)        18496     \n",
      "_________________________________________________________________\n",
      "activation_9 (Activation)    (None, 15, 15, 64)        0         \n",
      "_________________________________________________________________\n",
      "conv2d_8 (Conv2D)            (None, 13, 13, 64)        36928     \n",
      "_________________________________________________________________\n",
      "activation_10 (Activation)   (None, 13, 13, 64)        0         \n",
      "_________________________________________________________________\n",
      "max_pooling2d_4 (MaxPooling2 (None, 6, 6, 64)          0         \n",
      "_________________________________________________________________\n",
      "dropout_5 (Dropout)          (None, 6, 6, 64)          0         \n",
      "_________________________________________________________________\n",
      "flatten_2 (Flatten)          (None, 2304)              0         \n",
      "_________________________________________________________________\n",
      "dense_3 (Dense)              (None, 512)               1180160   \n",
      "_________________________________________________________________\n",
      "activation_11 (Activation)   (None, 512)               0         \n",
      "_________________________________________________________________\n",
      "dropout_6 (Dropout)          (None, 512)               0         \n",
      "_________________________________________________________________\n",
      "dense_4 (Dense)              (None, 10)                5130      \n",
      "_________________________________________________________________\n",
      "activation_12 (Activation)   (None, 10)                0         \n",
      "=================================================================\n",
      "Total params: 1,250,858\n",
      "Trainable params: 1,250,858\n",
      "Non-trainable params: 0\n",
      "_________________________________________________________________\n"
     ]
    }
   ],
   "source": [
    "myModel = no_batch_norm()"
   ]
  },
  {
   "cell_type": "code",
   "execution_count": 19,
   "metadata": {},
   "outputs": [
    {
     "name": "stderr",
     "output_type": "stream",
     "text": [
      "W0729 05:31:17.147496 140582718240512 deprecation_wrapper.py:119] From /usr/local/lib/python3.5/dist-packages/keras/optimizers.py:790: The name tf.train.Optimizer is deprecated. Please use tf.compat.v1.train.Optimizer instead.\n",
      "\n",
      "W0729 05:31:17.154800 140582718240512 deprecation_wrapper.py:119] From /usr/local/lib/python3.5/dist-packages/keras/backend/tensorflow_backend.py:3295: The name tf.log is deprecated. Please use tf.math.log instead.\n",
      "\n"
     ]
    }
   ],
   "source": [
    "opt = keras.optimizers.rmsprop(lr=0.0001, decay=1e-6)\n",
    "\n",
    "myModel.compile(loss='categorical_crossentropy',\n",
    "              optimizer=opt,\n",
    "              metrics=['accuracy'])"
   ]
  },
  {
   "cell_type": "code",
   "execution_count": 20,
   "metadata": {},
   "outputs": [
    {
     "name": "stdout",
     "output_type": "stream",
     "text": [
      "float32\n",
      "[[[0.23137255 0.24313726 0.24705882]\n",
      "  [0.16862746 0.18039216 0.1764706 ]\n",
      "  [0.19607843 0.1882353  0.16862746]\n",
      "  [0.26666668 0.21176471 0.16470589]\n",
      "  [0.38431373 0.28627452 0.20392157]]\n",
      "\n",
      " [[0.0627451  0.07843138 0.07843138]\n",
      "  [0.         0.         0.        ]\n",
      "  [0.07058824 0.03137255 0.        ]\n",
      "  [0.2        0.10588235 0.03137255]\n",
      "  [0.34509805 0.2        0.08235294]]\n",
      "\n",
      " [[0.09803922 0.09411765 0.08235294]\n",
      "  [0.0627451  0.02745098 0.        ]\n",
      "  [0.19215687 0.10588235 0.03137255]\n",
      "  [0.3254902  0.19607843 0.09019608]\n",
      "  [0.43137255 0.28235295 0.16078432]]\n",
      "\n",
      " [[0.12941177 0.09803922 0.06666667]\n",
      "  [0.14901961 0.07843138 0.01568628]\n",
      "  [0.34117648 0.21176471 0.09803922]\n",
      "  [0.41568628 0.24705882 0.10980392]\n",
      "  [0.4509804  0.27450982 0.12941177]]\n",
      "\n",
      " [[0.19607843 0.1254902  0.08235294]\n",
      "  [0.23137255 0.1254902  0.04313726]\n",
      "  [0.4        0.25490198 0.13333334]\n",
      "  [0.49803922 0.30980393 0.15294118]\n",
      "  [0.4862745  0.3019608  0.14117648]]]\n"
     ]
    }
   ],
   "source": [
    "x_train = x_train.astype('float32')\n",
    "x_test = x_test.astype('float32')\n",
    "x_train /= 255\n",
    "x_test /= 255\n",
    "print(x_train.dtype)\n",
    "print(x_train[0,:5,:5])"
   ]
  },
  {
   "cell_type": "code",
   "execution_count": 21,
   "metadata": {},
   "outputs": [],
   "source": [
    "datagen = ImageDataGenerator(\n",
    "        featurewise_center=False,  # set input mean to 0 over the dataset\n",
    "        samplewise_center=False,  # set each sample mean to 0\n",
    "        featurewise_std_normalization=False,  # divide inputs by std of the dataset\n",
    "        samplewise_std_normalization=False,  # divide each input by its std\n",
    "        zca_whitening=False,  # apply ZCA whitening\n",
    "        zca_epsilon=1e-06,  # epsilon for ZCA whitening\n",
    "        rotation_range=20,  # randomly rotate images in the range (degrees, 0 to 180)\n",
    "        # randomly shift images horizontally (fraction of total width)\n",
    "        width_shift_range=0.1,\n",
    "        # randomly shift images vertically (fraction of total height)\n",
    "        height_shift_range=0.1,\n",
    "        shear_range=3,  # set range for random shear\n",
    "        zoom_range=0.,  # set range for random zoom\n",
    "        channel_shift_range=0.,  # set range for random channel shifts\n",
    "        # set mode for filling points outside the input boundaries\n",
    "        fill_mode='nearest',\n",
    "        cval=0.,  # value used for fill_mode = \"constant\"\n",
    "        horizontal_flip=True,  # randomly flip images\n",
    "        vertical_flip=False,  # randomly flip images\n",
    "        # set rescaling factor (applied before any other transformation)\n",
    "        rescale=None,\n",
    "        # set function that will be applied on each input\n",
    "        preprocessing_function=None,\n",
    "        # image data format, either \"channels_first\" or \"channels_last\"\n",
    "        data_format=None,\n",
    "        # fraction of images reserved for validation (strictly between 0 and 1)\n",
    "        validation_split=0.0)"
   ]
  },
  {
   "cell_type": "code",
   "execution_count": 22,
   "metadata": {},
   "outputs": [],
   "source": [
    "datagen.fit(x_train)"
   ]
  },
  {
   "cell_type": "code",
   "execution_count": 23,
   "metadata": {
    "scrolled": true
   },
   "outputs": [
    {
     "name": "stderr",
     "output_type": "stream",
     "text": [
      "W0729 05:31:34.208864 140582718240512 deprecation.py:323] From /usr/local/lib/python3.5/dist-packages/tensorflow/python/ops/math_grad.py:1250: add_dispatch_support.<locals>.wrapper (from tensorflow.python.ops.array_ops) is deprecated and will be removed in a future version.\n",
      "Instructions for updating:\n",
      "Use tf.where in 2.0, which has the same broadcast rule as np.where\n"
     ]
    },
    {
     "name": "stdout",
     "output_type": "stream",
     "text": [
      "Epoch 1/30\n",
      "520/520 [==============================] - 36s 70ms/step - loss: 1.9371 - acc: 0.2890 - val_loss: 1.6826 - val_acc: 0.3937\n",
      "Epoch 2/30\n",
      "520/520 [==============================] - 30s 57ms/step - loss: 1.7102 - acc: 0.3748 - val_loss: 1.5487 - val_acc: 0.4316\n",
      "Epoch 3/30\n",
      "520/520 [==============================] - 29s 57ms/step - loss: 1.6205 - acc: 0.4088 - val_loss: 1.4685 - val_acc: 0.4645\n",
      "Epoch 4/30\n",
      "520/520 [==============================] - 30s 57ms/step - loss: 1.5492 - acc: 0.4378 - val_loss: 1.4061 - val_acc: 0.4968\n",
      "Epoch 5/30\n",
      "520/520 [==============================] - 29s 56ms/step - loss: 1.4925 - acc: 0.4590 - val_loss: 1.3385 - val_acc: 0.5197\n",
      "Epoch 6/30\n",
      "520/520 [==============================] - 29s 56ms/step - loss: 1.4512 - acc: 0.4755 - val_loss: 1.3203 - val_acc: 0.5270\n",
      "Epoch 7/30\n",
      "520/520 [==============================] - 29s 56ms/step - loss: 1.4078 - acc: 0.4946 - val_loss: 1.3440 - val_acc: 0.5275\n",
      "Epoch 8/30\n",
      "520/520 [==============================] - 28s 55ms/step - loss: 1.3777 - acc: 0.5054 - val_loss: 1.2334 - val_acc: 0.5608\n",
      "Epoch 9/30\n",
      "520/520 [==============================] - 28s 55ms/step - loss: 1.3489 - acc: 0.5189 - val_loss: 1.2554 - val_acc: 0.5526\n",
      "Epoch 10/30\n",
      "520/520 [==============================] - 29s 55ms/step - loss: 1.3173 - acc: 0.5280 - val_loss: 1.2075 - val_acc: 0.5721\n",
      "Epoch 11/30\n",
      "520/520 [==============================] - 28s 55ms/step - loss: 1.2922 - acc: 0.5373 - val_loss: 1.2240 - val_acc: 0.5662\n",
      "Epoch 12/30\n",
      "520/520 [==============================] - 28s 54ms/step - loss: 1.2715 - acc: 0.5461 - val_loss: 1.2106 - val_acc: 0.5714\n",
      "Epoch 13/30\n",
      "520/520 [==============================] - 28s 54ms/step - loss: 1.2439 - acc: 0.5573 - val_loss: 1.1431 - val_acc: 0.5946\n",
      "Epoch 14/30\n",
      "520/520 [==============================] - 28s 54ms/step - loss: 1.2200 - acc: 0.5660 - val_loss: 1.1083 - val_acc: 0.6075\n",
      "Epoch 15/30\n",
      "520/520 [==============================] - 29s 55ms/step - loss: 1.1941 - acc: 0.5748 - val_loss: 1.0505 - val_acc: 0.6276\n",
      "Epoch 16/30\n",
      "520/520 [==============================] - 28s 54ms/step - loss: 1.1808 - acc: 0.5804 - val_loss: 1.0828 - val_acc: 0.6152\n",
      "Epoch 17/30\n",
      "520/520 [==============================] - 28s 54ms/step - loss: 1.1661 - acc: 0.5886 - val_loss: 1.0229 - val_acc: 0.6389\n",
      "Epoch 18/30\n",
      "520/520 [==============================] - 28s 54ms/step - loss: 1.1498 - acc: 0.5927 - val_loss: 1.1393 - val_acc: 0.6047\n",
      "Epoch 19/30\n",
      "520/520 [==============================] - 28s 54ms/step - loss: 1.1319 - acc: 0.6003 - val_loss: 0.9992 - val_acc: 0.6425\n",
      "Epoch 20/30\n",
      "520/520 [==============================] - 28s 54ms/step - loss: 1.1157 - acc: 0.6039 - val_loss: 1.0185 - val_acc: 0.6362\n",
      "Epoch 21/30\n",
      "520/520 [==============================] - 28s 54ms/step - loss: 1.1056 - acc: 0.6063 - val_loss: 1.0542 - val_acc: 0.6300\n",
      "Epoch 22/30\n",
      "520/520 [==============================] - 28s 55ms/step - loss: 1.0845 - acc: 0.6164 - val_loss: 0.9752 - val_acc: 0.6555\n",
      "Epoch 23/30\n",
      "520/520 [==============================] - 28s 54ms/step - loss: 1.0732 - acc: 0.6190 - val_loss: 1.0509 - val_acc: 0.6332\n",
      "Epoch 24/30\n",
      "520/520 [==============================] - 28s 54ms/step - loss: 1.0693 - acc: 0.6209 - val_loss: 1.0530 - val_acc: 0.6342\n",
      "Epoch 25/30\n",
      "520/520 [==============================] - 28s 54ms/step - loss: 1.0502 - acc: 0.6292 - val_loss: 0.9688 - val_acc: 0.6596\n",
      "Epoch 26/30\n",
      "520/520 [==============================] - 28s 54ms/step - loss: 1.0426 - acc: 0.6311 - val_loss: 0.9259 - val_acc: 0.6751\n",
      "Epoch 27/30\n",
      "520/520 [==============================] - 28s 54ms/step - loss: 1.0365 - acc: 0.6353 - val_loss: 0.9101 - val_acc: 0.6822\n",
      "Epoch 28/30\n",
      "520/520 [==============================] - 28s 54ms/step - loss: 1.0040 - acc: 0.6458 - val_loss: 0.8978 - val_acc: 0.6804\n"
     ]
    }
   ],
   "source": [
    "## Using a data generator <May limit the GPU performance because GPU is too fast>\n",
    "## This version has data augmentation\n",
    "history = myModel.fit_generator(datagen.flow(x_train, y_train,\n",
    "                                 batch_size=batch_size*3),\n",
    "                                steps_per_epoch= x_train.shape[0] //(batch_size*3),\n",
    "                    epochs=30,\n",
    "                    validation_data=(x_test, y_test),\n",
    "                    workers=8)\n"
   ]
  },
  {
   "cell_type": "code",
   "execution_count": 24,
   "metadata": {},
   "outputs": [],
   "source": [
    "if not os.path.isdir(\"./models\"):\n",
    "    os.makedirs(\"./models\")\n",
    "myModel_save_path = \"./models/model_generator_aug.hdf5\"\n",
    "myModel.save(myModel_save_path)"
   ]
  },
  {
   "cell_type": "code",
   "execution_count": 25,
   "metadata": {},
   "outputs": [
    {
     "name": "stdout",
     "output_type": "stream",
     "text": [
      "10000/10000 [==============================] - 1s 70us/step\n",
      "Test loss: 0.8977753735542298\n",
      "Test accuracy: 0.6804\n"
     ]
    }
   ],
   "source": [
    "scores = myModel.evaluate(x_test, y_test, verbose=1)\n",
    "print('Test loss:', scores[0])\n",
    "print('Test accuracy:', scores[1])"
   ]
  },
  {
   "cell_type": "code",
   "execution_count": 26,
   "metadata": {},
   "outputs": [
    {
     "data": {
      "image/png": "[encoded data removed]",
      "text/plain": [
       "<Figure size 432x288 with 1 Axes>"
      ]
     },
     "metadata": {
      "needs_background": "light"
     },
     "output_type": "display_data"
    }
   ],
   "source": [
    "# Plot training & validation loss values\n",
    "plt.plot(history.history['loss'])\n",
    "plt.plot(history.history['val_loss'])\n",
    "plt.title('Model loss')\n",
    "plt.ylabel('Loss')\n",
    "plt.xlabel('Epoch')\n",
    "plt.legend(['Train', 'Test'], loc='upper left')\n",
    "plt.show()"
   ]
  },
  {
   "cell_type": "code",
   "execution_count": 27,
   "metadata": {},
   "outputs": [
    {
     "name": "stdout",
     "output_type": "stream",
     "text": [
      "<class 'keras.engine.sequential.Sequential'>\n",
      "_________________________________________________________________\n",
      "Layer (type)                 Output Shape              Param #   \n",
      "=================================================================\n",
      "conv2d_9 (Conv2D)            (None, 32, 32, 32)        896       \n",
      "_________________________________________________________________\n",
      "activation_13 (Activation)   (None, 32, 32, 32)        0         \n",
      "_________________________________________________________________\n",
      "conv2d_10 (Conv2D)           (None, 30, 30, 32)        9248      \n",
      "_________________________________________________________________\n",
      "activation_14 (Activation)   (None, 30, 30, 32)        0         \n",
      "_________________________________________________________________\n",
      "max_pooling2d_5 (MaxPooling2 (None, 15, 15, 32)        0         \n",
      "_________________________________________________________________\n",
      "dropout_7 (Dropout)          (None, 15, 15, 32)        0         \n",
      "_________________________________________________________________\n",
      "conv2d_11 (Conv2D)           (None, 15, 15, 64)        18496     \n",
      "_________________________________________________________________\n",
      "activation_15 (Activation)   (None, 15, 15, 64)        0         \n",
      "_________________________________________________________________\n",
      "conv2d_12 (Conv2D)           (None, 13, 13, 64)        36928     \n",
      "_________________________________________________________________\n",
      "activation_16 (Activation)   (None, 13, 13, 64)        0         \n",
      "_________________________________________________________________\n",
      "max_pooling2d_6 (MaxPooling2 (None, 6, 6, 64)          0         \n",
      "_________________________________________________________________\n",
      "dropout_8 (Dropout)          (None, 6, 6, 64)          0         \n",
      "_________________________________________________________________\n",
      "flatten_3 (Flatten)          (None, 2304)              0         \n",
      "_________________________________________________________________\n",
      "dense_5 (Dense)              (None, 512)               1180160   \n",
      "_________________________________________________________________\n",
      "activation_17 (Activation)   (None, 512)               0         \n",
      "_________________________________________________________________\n",
      "dropout_9 (Dropout)          (None, 512)               0         \n",
      "_________________________________________________________________\n",
      "dense_6 (Dense)              (None, 10)                5130      \n",
      "_________________________________________________________________\n",
      "activation_18 (Activation)   (None, 10)                0         \n",
      "=================================================================\n",
      "Total params: 1,250,858\n",
      "Trainable params: 1,250,858\n",
      "Non-trainable params: 0\n",
      "_________________________________________________________________\n"
     ]
    }
   ],
   "source": [
    "#REDEFINE and re-compile the model here, and run for the same 30 epochs.\n",
    "myModel = no_batch_norm()\n",
    "opt = keras.optimizers.rmsprop(lr=0.0001, decay=1e-6)\n",
    "\n",
    "myModel.compile(loss='categorical_crossentropy',\n",
    "              optimizer=opt,\n",
    "              metrics=['accuracy'])"
   ]
  },
  {
   "cell_type": "code",
   "execution_count": 28,
   "metadata": {
    "scrolled": true
   },
   "outputs": [
    {
     "name": "stdout",
     "output_type": "stream",
     "text": [
      "Train on 50000 samples, validate on 10000 samples\n",
      "Epoch 1/30\n",
      "50000/50000 [==============================] - 5s 110us/step - loss: 1.9218 - acc: 0.2976 - val_loss: 1.7824 - val_acc: 0.3638\n",
      "Epoch 2/30\n",
      "50000/50000 [==============================] - 5s 98us/step - loss: 1.6560 - acc: 0.3975 - val_loss: 1.5358 - val_acc: 0.4484\n",
      "Epoch 3/30\n",
      "50000/50000 [==============================] - 5s 98us/step - loss: 1.5502 - acc: 0.4396 - val_loss: 1.4280 - val_acc: 0.4889\n",
      "Epoch 4/30\n",
      "50000/50000 [==============================] - 5s 98us/step - loss: 1.4647 - acc: 0.4713 - val_loss: 1.3764 - val_acc: 0.5034\n",
      "Epoch 5/30\n",
      "50000/50000 [==============================] - 5s 97us/step - loss: 1.3953 - acc: 0.4973 - val_loss: 1.3056 - val_acc: 0.5400\n",
      "Epoch 6/30\n",
      "50000/50000 [==============================] - 5s 98us/step - loss: 1.3389 - acc: 0.5188 - val_loss: 1.2516 - val_acc: 0.5559\n",
      "Epoch 7/30\n",
      "50000/50000 [==============================] - 5s 98us/step - loss: 1.2897 - acc: 0.5406 - val_loss: 1.2307 - val_acc: 0.5718\n",
      "Epoch 8/30\n",
      "50000/50000 [==============================] - 5s 97us/step - loss: 1.2474 - acc: 0.5560 - val_loss: 1.1590 - val_acc: 0.5886\n",
      "Epoch 9/30\n",
      "50000/50000 [==============================] - 5s 98us/step - loss: 1.2093 - acc: 0.5696 - val_loss: 1.1201 - val_acc: 0.6023\n",
      "Epoch 10/30\n",
      "50000/50000 [==============================] - 5s 98us/step - loss: 1.1741 - acc: 0.5831 - val_loss: 1.1262 - val_acc: 0.6022\n",
      "Epoch 11/30\n",
      "50000/50000 [==============================] - 5s 98us/step - loss: 1.1380 - acc: 0.5981 - val_loss: 1.0678 - val_acc: 0.6196\n",
      "Epoch 12/30\n",
      "50000/50000 [==============================] - 5s 98us/step - loss: 1.1049 - acc: 0.6094 - val_loss: 1.1070 - val_acc: 0.6080\n",
      "Epoch 13/30\n",
      "50000/50000 [==============================] - 5s 98us/step - loss: 1.0773 - acc: 0.6207 - val_loss: 1.0060 - val_acc: 0.6449\n",
      "Epoch 14/30\n",
      "50000/50000 [==============================] - 5s 97us/step - loss: 1.0488 - acc: 0.6328 - val_loss: 0.9986 - val_acc: 0.6496\n",
      "Epoch 15/30\n",
      "50000/50000 [==============================] - 5s 97us/step - loss: 1.0228 - acc: 0.6395 - val_loss: 0.9566 - val_acc: 0.6649\n",
      "Epoch 16/30\n",
      "50000/50000 [==============================] - 5s 97us/step - loss: 1.0022 - acc: 0.6482 - val_loss: 0.9430 - val_acc: 0.6738\n",
      "Epoch 17/30\n",
      "50000/50000 [==============================] - 5s 97us/step - loss: 0.9788 - acc: 0.6570 - val_loss: 0.9720 - val_acc: 0.6601\n",
      "Epoch 18/30\n",
      "50000/50000 [==============================] - 5s 97us/step - loss: 0.9593 - acc: 0.6642 - val_loss: 0.9163 - val_acc: 0.6802\n",
      "Epoch 19/30\n",
      "50000/50000 [==============================] - 5s 98us/step - loss: 0.9321 - acc: 0.6725 - val_loss: 0.8852 - val_acc: 0.6923\n",
      "Epoch 20/30\n",
      "50000/50000 [==============================] - 5s 98us/step - loss: 0.9210 - acc: 0.6774 - val_loss: 0.8916 - val_acc: 0.6861\n",
      "Epoch 21/30\n",
      "50000/50000 [==============================] - 5s 98us/step - loss: 0.9026 - acc: 0.6839 - val_loss: 0.8676 - val_acc: 0.6980\n",
      "Epoch 22/30\n",
      "50000/50000 [==============================] - 5s 96us/step - loss: 0.8883 - acc: 0.6887 - val_loss: 0.8637 - val_acc: 0.6988\n",
      "Epoch 23/30\n",
      "50000/50000 [==============================] - 5s 98us/step - loss: 0.8699 - acc: 0.6956 - val_loss: 0.8391 - val_acc: 0.7077\n",
      "Epoch 24/30\n",
      "50000/50000 [==============================] - 5s 98us/step - loss: 0.8548 - acc: 0.7001 - val_loss: 0.8254 - val_acc: 0.7116\n",
      "Epoch 25/30\n",
      "50000/50000 [==============================] - 5s 98us/step - loss: 0.8396 - acc: 0.7056 - val_loss: 0.8105 - val_acc: 0.7193\n",
      "Epoch 26/30\n",
      "50000/50000 [==============================] - 5s 98us/step - loss: 0.8253 - acc: 0.7117 - val_loss: 0.7993 - val_acc: 0.7231\n",
      "Epoch 27/30\n",
      "50000/50000 [==============================] - 5s 101us/step - loss: 0.8112 - acc: 0.7183 - val_loss: 0.8059 - val_acc: 0.7201\n",
      "Epoch 28/30\n",
      "50000/50000 [==============================] - 5s 102us/step - loss: 0.7994 - acc: 0.7219 - val_loss: 0.8012 - val_acc: 0.7244\n",
      "Epoch 29/30\n",
      "50000/50000 [==============================] - 5s 97us/step - loss: 0.7856 - acc: 0.7276 - val_loss: 0.8068 - val_acc: 0.7219\n",
      "Epoch 30/30\n",
      "50000/50000 [==============================] - 5s 97us/step - loss: 0.7758 - acc: 0.7306 - val_loss: 0.7695 - val_acc: 0.7348\n"
     ]
    }
   ],
   "source": [
    "## Direcly using \n",
    "history_no_generator = myModel.fit(x_train, y_train,\n",
    "                                 batch_size=batch_size*3,\n",
    "                    epochs=30,\n",
    "                    validation_data=(x_test, y_test))\n"
   ]
  },
  {
   "cell_type": "code",
   "execution_count": 29,
   "metadata": {},
   "outputs": [],
   "source": [
    "if not os.path.isdir(\"./models\"):\n",
    "    os.makedirs(\"./models\")\n",
    "myModel_save_path = \"./models/model_without_generator.hdf5\"\n",
    "myModel.save(myModel_save_path)"
   ]
  },
  {
   "cell_type": "code",
   "execution_count": 30,
   "metadata": {
    "scrolled": true
   },
   "outputs": [
    {
     "name": "stdout",
     "output_type": "stream",
     "text": [
      "10000/10000 [==============================] - 1s 66us/step\n",
      "Test loss: 0.769478184890747\n",
      "Test accuracy: 0.7348\n"
     ]
    }
   ],
   "source": [
    "scores = myModel.evaluate(x_test, y_test, verbose=1)\n",
    "print('Test loss:', scores[0])\n",
    "print('Test accuracy:', scores[1])"
   ]
  },
  {
   "cell_type": "code",
   "execution_count": 31,
   "metadata": {},
   "outputs": [
    {
     "data": {
      "image/png": "[encoded data removed]",
      "text/plain": [
       "<Figure size 432x288 with 1 Axes>"
      ]
     },
     "metadata": {
      "needs_background": "light"
     },
     "output_type": "display_data"
    }
   ],
   "source": [
    "# Plot training & validation loss values\n",
    "plt.plot(history.history['loss'])\n",
    "plt.plot(history.history['val_loss'])\n",
    "plt.title('Model loss')\n",
    "plt.ylabel('Loss')\n",
    "plt.xlabel('Epoch')\n",
    "plt.legend(['Train', 'Test'], loc='upper left')\n",
    "plt.show()"
   ]
  },
  {
   "cell_type": "markdown",
   "metadata": {},
   "source": [
    "### Data Augmentation Visualization"
   ]
  },
  {
   "cell_type": "code",
   "execution_count": 22,
   "metadata": {
    "scrolled": false
   },
   "outputs": [
    {
     "name": "stdout",
     "output_type": "stream",
     "text": [
      ".\t\t\t.git\t\t    Pioneer_main.ipynb\n",
      "..\t\t\t.ipynb_checkpoints  Skimage_learning.ipynb\n",
      "data_aug_cifar10.ipynb\tmodels\t\t    skimage_nupmy.ipynb\n",
      "\n",
      "\n",
      ".\t\t\t.git\t\t    Pioneer_main.ipynb\n",
      "..\t\t\t.ipynb_checkpoints  Skimage_learning.ipynb\n",
      "data_aug_cifar10.ipynb\tmodels\t\t    skimage_nupmy.ipynb\n"
     ]
    }
   ],
   "source": [
    "!ls -a\n",
    "!echo \"\"\n",
    "!rm -rf ./augmented_pictures/\n",
    "!echo \"\"\n",
    "!ls -a"
   ]
  },
  {
   "cell_type": "code",
   "execution_count": 29,
   "metadata": {},
   "outputs": [],
   "source": [
    "#Visualize some results of data augmentation\n",
    "import matplotlib.pyplot as plt\n",
    "import PIL\n",
    "\n",
    "SAVE_PATH = \"./augmented_pictures/\"\n",
    "    \n",
    "def output_augmented(num):\n",
    "    img = None\n",
    "    sub_img= None\n",
    "    name_list = None\n",
    "\n",
    "    if not os.path.isdir(SAVE_PATH):\n",
    "        os.makedirs(SAVE_PATH)\n",
    "\n",
    "    gen_data = datagen.flow(x_train, \n",
    "                                           batch_size=1, \n",
    "                                           shuffle=False, \n",
    "                                           save_to_dir=SAVE_PATH,\n",
    "                                           save_prefix=('generated'+ str(num)))\n",
    "    for i in range(9):\n",
    "        gen_data.next() \n",
    "    \n",
    "# name_list = os.listdir(SAVE_PATH)\n",
    "# # print(name_list)\n",
    "# fig = plt.figure()\n",
    "\n",
    "# for i in range(len(name_list)):\n",
    "#     img = PIL.Image.open(SAVE_PATH+name_list[i])\n",
    "#     sub_img = fig.add_subplot(331 + i)\n",
    "#     sub_img.imshow(img)\n",
    "    \n",
    "# plt.show()\n",
    "\n",
    "    "
   ]
  },
  {
   "cell_type": "code",
   "execution_count": 30,
   "metadata": {},
   "outputs": [],
   "source": [
    "for i in range(5):\n",
    "    output_augmented(i)\n",
    "    name_list = os.listdir(SAVE_PATH)\n",
    "#     fig = plt.figure()\n",
    "#     for i in range(len(name_list)):\n",
    "#     img = PIL.Image.open(SAVE_PATH+name_list[i])\n",
    "#     sub_img = fig.add_subplot(331 + i)\n",
    "#     sub_img.imshow(img)\n",
    "    "
   ]
  },
  {
   "cell_type": "markdown",
   "metadata": {},
   "source": [
    "### Data Augmentation for Semantic Segmentation\n",
    "This section will look at how different approaches can be used to augment the image data, generating the same transformations for both the image and the mask."
   ]
  },
  {
   "cell_type": "code",
   "execution_count": 31,
   "metadata": {},
   "outputs": [],
   "source": [
    "segmentation_datagen = ImageDataGenerator(\n",
    "        featurewise_center=False,  # set input mean to 0 over the dataset\n",
    "        samplewise_center=False,  # set each sample mean to 0\n",
    "        featurewise_std_normalization=False,  # divide inputs by std of the dataset\n",
    "        samplewise_std_normalization=False,  # divide each input by its std\n",
    "        zca_whitening=False,  # apply ZCA whitening\n",
    "        zca_epsilon=1e-06,  # epsilon for ZCA whitening\n",
    "        rotation_range=20,  # randomly rotate images in the range (degrees, 0 to 180)\n",
    "        shear_range=0.2,  # set range for random shear\n",
    "        zoom_range=0.,  # set range for random zoom\n",
    "        channel_shift_range=0.,  # set range for random channel shifts\n",
    "        # set mode for filling points outside the input boundaries\n",
    "        fill_mode='nearest',\n",
    "        cval=0.,  # value used for fill_mode = \"constant\"\n",
    "        horizontal_flip=True,  # randomly flip images\n",
    "        vertical_flip=False,  # randomly flip images\n",
    "        # set rescaling factor (applied before any other transformation)\n",
    "        rescale=None,\n",
    "        # set function that will be applied on each input\n",
    "        preprocessing_function=None,\n",
    "        # image data format, either \"channels_first\" or \"channels_last\"\n",
    "        data_format=None,\n",
    "        # fraction of images reserved for validation (strictly between 0 and 1)\n",
    "        validation_split=0.0)"
   ]
  },
  {
   "cell_type": "code",
   "execution_count": null,
   "metadata": {},
   "outputs": [],
   "source": [
    "#Define two folders for saving the image and mask together\n",
    "save_img_path = \"./augmented_images\"\n",
    "save_mask_path = \"./augmented_masks\"\n",
    "\n",
    "seed = 34\n",
    "\n",
    "for counter in range(10): # Generate 20 pairs of images and mask, 2 pairs for each iteration\n",
    "    # The seed stays unchanged, but image_generator and mask_generator are re-initialized every time\n",
    "    # This is to make sure that every time the 2 images and 2 masks are generated \n",
    "    image_generator = segmentation_datagen.flow(x_train,\n",
    "                                            batch_size=1, \n",
    "                                            shuffle=False, \n",
    "                                            save_to_dir=SAVE_PATH,\n",
    "                                            save_prefix=('image_'+ str(num)),\n",
    "                                            seed=seed)\n",
    "\n",
    "    mask_generator = segmentation_datagen.flow(x_train,\n",
    "                                                batch_size=1, \n",
    "                                                shuffle=False, \n",
    "                                                save_to_dir=SAVE_PATH,\n",
    "                                                save_prefix=('mask_'+ str(num)),\n",
    "                                                seed=seed)\n",
    "    \n",
    "    \n"
   ]
  }
 ],
 "metadata": {
  "kernelspec": {
   "display_name": "Python 3",
   "language": "python",
   "name": "python3"
  },
  "language_info": {
   "codemirror_mode": {
    "name": "ipython",
    "version": 3
   },
   "file_extension": ".py",
   "mimetype": "text/x-python",
   "name": "python",
   "nbconvert_exporter": "python",
   "pygments_lexer": "ipython3",
   "version": "3.5.3"
  }
 },
 "nbformat": 4,
 "nbformat_minor": 2
}
