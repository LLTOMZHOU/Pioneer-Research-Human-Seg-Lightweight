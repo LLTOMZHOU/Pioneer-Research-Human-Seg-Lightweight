{
 "cells": [
  {
   "cell_type": "code",
   "execution_count": 1,
   "metadata": {},
   "outputs": [
    {
     "name": "stdout",
     "output_type": "stream",
     "text": [
      "1.10.0\n"
     ]
    }
   ],
   "source": [
    "import tensorflow as tf\n",
    "print(tf.__version__)"
   ]
  },
  {
   "cell_type": "code",
   "execution_count": 2,
   "metadata": {},
   "outputs": [
    {
     "name": "stderr",
     "output_type": "stream",
     "text": [
      "Using TensorFlow backend.\n"
     ]
    }
   ],
   "source": [
    "import keras\n",
    "from keras.datasets import cifar10\n",
    "from keras.preprocessing.image import ImageDataGenerator\n",
    "from keras.models import Sequential\n",
    "from keras.layers import Dense, Dropout, Activation, Flatten\n",
    "from keras.layers import Conv2D, MaxPooling2D\n",
    "import matplotlib.pyplot as plt\n",
    "import os"
   ]
  },
  {
   "cell_type": "code",
   "execution_count": 3,
   "metadata": {},
   "outputs": [],
   "source": [
    "batch_size = 32\n",
    "num_classes = 10\n",
    "epochs = 40\n",
    "data_augmentation = True\n",
    "num_predictions = 20\n",
    "save_dir = os.path.join(os.getcwd(), 'saved_models')\n",
    "model_name = 'keras_cifar10_trained_model.h5'"
   ]
  },
  {
   "cell_type": "code",
   "execution_count": 4,
   "metadata": {},
   "outputs": [
    {
     "name": "stdout",
     "output_type": "stream",
     "text": [
      "x_train shape: (50000, 32, 32, 3)\n",
      "50000 train samples\n",
      "10000 test samples\n",
      "uint8\n"
     ]
    }
   ],
   "source": [
    "(x_train, y_train), (x_test, y_test) = cifar10.load_data()\n",
    "print('x_train shape:', x_train.shape)\n",
    "print(x_train.shape[0], 'train samples')\n",
    "print(x_test.shape[0], 'test samples')\n",
    "print(x_train.dtype)"
   ]
  },
  {
   "cell_type": "code",
   "execution_count": 5,
   "metadata": {},
   "outputs": [],
   "source": [
    "y_train = keras.utils.to_categorical(y_train, num_classes)\n",
    "y_test = keras.utils.to_categorical(y_test, num_classes)"
   ]
  },
  {
   "cell_type": "code",
   "execution_count": 6,
   "metadata": {},
   "outputs": [],
   "source": [
    "def no_batch_norm():\n",
    "    model = Sequential()\n",
    "    model.add(Conv2D(32, (3, 3), padding='same',\n",
    "                     input_shape=x_train.shape[1:]))\n",
    "    model.add(Activation('relu'))\n",
    "    model.add(Conv2D(32, (3, 3)))\n",
    "    model.add(Activation('relu'))\n",
    "    model.add(MaxPooling2D(pool_size=(2, 2)))\n",
    "    model.add(Dropout(0.25))\n",
    "\n",
    "    model.add(Conv2D(64, (3, 3), padding='same'))\n",
    "    model.add(Activation('relu'))\n",
    "    model.add(Conv2D(64, (3, 3)))\n",
    "    model.add(Activation('relu'))\n",
    "    model.add(MaxPooling2D(pool_size=(2, 2)))\n",
    "    model.add(Dropout(0.25))\n",
    "\n",
    "    model.add(Flatten())\n",
    "    model.add(Dense(512))\n",
    "    model.add(Activation('relu'))\n",
    "    model.add(Dropout(0.5))\n",
    "    model.add(Dense(num_classes))\n",
    "    model.add(Activation('softmax'))\n",
    "    \n",
    "    print(type(model))\n",
    "    return model"
   ]
  },
  {
   "cell_type": "code",
   "execution_count": 7,
   "metadata": {},
   "outputs": [
    {
     "name": "stdout",
     "output_type": "stream",
     "text": [
      "<class 'keras.engine.sequential.Sequential'>\n"
     ]
    }
   ],
   "source": [
    "myModel = no_batch_norm()"
   ]
  },
  {
   "cell_type": "code",
   "execution_count": 8,
   "metadata": {},
   "outputs": [],
   "source": [
    "opt = keras.optimizers.rmsprop(lr=0.0001, decay=1e-6)\n",
    "\n",
    "myModel.compile(loss='categorical_crossentropy',\n",
    "              optimizer=opt,\n",
    "              metrics=['accuracy'])"
   ]
  },
  {
   "cell_type": "code",
   "execution_count": 9,
   "metadata": {},
   "outputs": [
    {
     "name": "stdout",
     "output_type": "stream",
     "text": [
      "float32\n",
      "[[[ 0.23137255  0.24313726  0.24705882]\n",
      "  [ 0.16862746  0.18039216  0.17647059]\n",
      "  [ 0.19607843  0.1882353   0.16862746]\n",
      "  [ 0.26666668  0.21176471  0.16470589]\n",
      "  [ 0.38431373  0.28627452  0.20392157]\n",
      "  [ 0.46666667  0.35686275  0.24705882]\n",
      "  [ 0.54509807  0.41960785  0.29411766]\n",
      "  [ 0.56862748  0.43137255  0.3137255 ]\n",
      "  [ 0.58431375  0.45882353  0.34901962]\n",
      "  [ 0.58431375  0.47058824  0.36470589]]\n",
      "\n",
      " [[ 0.0627451   0.07843138  0.07843138]\n",
      "  [ 0.          0.          0.        ]\n",
      "  [ 0.07058824  0.03137255  0.        ]\n",
      "  [ 0.2         0.10588235  0.03137255]\n",
      "  [ 0.34509805  0.2         0.08235294]\n",
      "  [ 0.47058824  0.32156864  0.16862746]\n",
      "  [ 0.50196081  0.34901962  0.17647059]\n",
      "  [ 0.49803922  0.33725491  0.17254902]\n",
      "  [ 0.49411765  0.34117648  0.19607843]\n",
      "  [ 0.45490196  0.30980393  0.17254902]]\n",
      "\n",
      " [[ 0.09803922  0.09411765  0.08235294]\n",
      "  [ 0.0627451   0.02745098  0.        ]\n",
      "  [ 0.19215687  0.10588235  0.03137255]\n",
      "  [ 0.32549021  0.19607843  0.09019608]\n",
      "  [ 0.43137255  0.28235295  0.16078432]\n",
      "  [ 0.50588238  0.36078432  0.21176471]\n",
      "  [ 0.50980395  0.36470589  0.21568628]\n",
      "  [ 0.47450981  0.32156864  0.18431373]\n",
      "  [ 0.44313726  0.3019608   0.16862746]\n",
      "  [ 0.43921569  0.30588236  0.17254902]]\n",
      "\n",
      " [[ 0.12941177  0.09803922  0.06666667]\n",
      "  [ 0.14901961  0.07843138  0.01568628]\n",
      "  [ 0.34117648  0.21176471  0.09803922]\n",
      "  [ 0.41568628  0.24705882  0.10980392]\n",
      "  [ 0.4509804   0.27450982  0.12941177]\n",
      "  [ 0.45882353  0.29019609  0.13725491]\n",
      "  [ 0.44705883  0.28235295  0.14509805]\n",
      "  [ 0.41176471  0.24313726  0.12941177]\n",
      "  [ 0.41960785  0.26666668  0.12941177]\n",
      "  [ 0.47450981  0.32941177  0.17647059]]\n",
      "\n",
      " [[ 0.19607843  0.1254902   0.08235294]\n",
      "  [ 0.23137255  0.1254902   0.04313726]\n",
      "  [ 0.40000001  0.25490198  0.13333334]\n",
      "  [ 0.49803922  0.30980393  0.15294118]\n",
      "  [ 0.48627451  0.3019608   0.14117648]\n",
      "  [ 0.47450981  0.3019608   0.14117648]\n",
      "  [ 0.47058824  0.30588236  0.15686275]\n",
      "  [ 0.44705883  0.29019609  0.15294118]\n",
      "  [ 0.41960785  0.28235295  0.13333334]\n",
      "  [ 0.49019608  0.34509805  0.19215687]]\n",
      "\n",
      " [[ 0.27843139  0.1882353   0.11372549]\n",
      "  [ 0.32941177  0.20784314  0.09411765]\n",
      "  [ 0.43137255  0.28627452  0.14509805]\n",
      "  [ 0.50588238  0.32156864  0.14901961]\n",
      "  [ 0.53333336  0.34509805  0.17647059]\n",
      "  [ 0.51372552  0.32941177  0.16470589]\n",
      "  [ 0.50588238  0.32941177  0.16862746]\n",
      "  [ 0.46666667  0.3019608   0.14509805]\n",
      "  [ 0.42352942  0.27450982  0.12941177]\n",
      "  [ 0.47843137  0.32156864  0.17254902]]\n",
      "\n",
      " [[ 0.38039216  0.27058825  0.15686275]\n",
      "  [ 0.43529412  0.29411766  0.14117648]\n",
      "  [ 0.48235294  0.33333334  0.16862746]\n",
      "  [ 0.50980395  0.32941177  0.14901961]\n",
      "  [ 0.53333336  0.34509805  0.17254902]\n",
      "  [ 0.51764709  0.32549021  0.15686275]\n",
      "  [ 0.47843137  0.29019609  0.11764706]\n",
      "  [ 0.47450981  0.29019609  0.12156863]\n",
      "  [ 0.49803922  0.32549021  0.18039216]\n",
      "  [ 0.5411765   0.36862746  0.21176471]]\n",
      "\n",
      " [[ 0.4509804   0.32156864  0.19215687]\n",
      "  [ 0.46666667  0.29803923  0.12941177]\n",
      "  [ 0.50980395  0.35294119  0.18431373]\n",
      "  [ 0.54901963  0.38039216  0.20784314]\n",
      "  [ 0.52156866  0.34509805  0.1882353 ]\n",
      "  [ 0.49803922  0.31764707  0.15686275]\n",
      "  [ 0.5411765   0.35294119  0.18431373]\n",
      "  [ 0.53725493  0.34901962  0.18039216]\n",
      "  [ 0.51372552  0.33725491  0.1882353 ]\n",
      "  [ 0.52156866  0.34901962  0.18039216]]\n",
      "\n",
      " [[ 0.53725493  0.39215687  0.26666668]\n",
      "  [ 0.50196081  0.32156864  0.16078432]\n",
      "  [ 0.51764709  0.35686275  0.2       ]\n",
      "  [ 0.50196081  0.34117648  0.1882353 ]\n",
      "  [ 0.46666667  0.31764707  0.17254902]\n",
      "  [ 0.48235294  0.32156864  0.16862746]\n",
      "  [ 0.50196081  0.33333334  0.17254902]\n",
      "  [ 0.50980395  0.33333334  0.17254902]\n",
      "  [ 0.47450981  0.3137255   0.15686275]\n",
      "  [ 0.53725493  0.38039216  0.21176471]]\n",
      "\n",
      " [[ 0.60392159  0.47058824  0.34901962]\n",
      "  [ 0.60392159  0.43921569  0.3019608 ]\n",
      "  [ 0.61176473  0.44705883  0.32156864]\n",
      "  [ 0.54901963  0.39215687  0.25490198]\n",
      "  [ 0.48235294  0.34901962  0.20784314]\n",
      "  [ 0.49019608  0.33725491  0.19607843]\n",
      "  [ 0.49411765  0.33725491  0.1882353 ]\n",
      "  [ 0.49803922  0.35686275  0.20392157]\n",
      "  [ 0.52156866  0.38039216  0.23529412]\n",
      "  [ 0.51764709  0.38039216  0.26666668]]]\n"
     ]
    }
   ],
   "source": [
    "x_train = x_train.astype('float32')\n",
    "x_test = x_test.astype('float32')\n",
    "x_train /= 255\n",
    "x_test /= 255\n",
    "print(x_train.dtype)\n",
    "print(x_train[0,:5,:5])"
   ]
  },
  {
   "cell_type": "code",
   "execution_count": 6,
   "metadata": {},
   "outputs": [],
   "source": [
    "datagen = ImageDataGenerator(\n",
    "        featurewise_center=False,  # set input mean to 0 over the dataset\n",
    "        samplewise_center=False,  # set each sample mean to 0\n",
    "        featurewise_std_normalization=False,  # divide inputs by std of the dataset\n",
    "        samplewise_std_normalization=False,  # divide each input by its std\n",
    "        zca_whitening=False,  # apply ZCA whitening\n",
    "        zca_epsilon=1e-06,  # epsilon for ZCA whitening\n",
    "        rotation_range=20,  # randomly rotate images in the range (degrees, 0 to 180)\n",
    "        # randomly shift images horizontally (fraction of total width)\n",
    "        width_shift_range=0.1,\n",
    "        # randomly shift images vertically (fraction of total height)\n",
    "        height_shift_range=0.1,\n",
    "        shear_range=3,  # set range for random shear\n",
    "        zoom_range=0.,  # set range for random zoom\n",
    "        channel_shift_range=0.,  # set range for random channel shifts\n",
    "        # set mode for filling points outside the input boundaries\n",
    "        fill_mode='nearest',\n",
    "        cval=0.,  # value used for fill_mode = \"constant\"\n",
    "        horizontal_flip=True,  # randomly flip images\n",
    "        vertical_flip=False,  # randomly flip images\n",
    "        # set rescaling factor (applied before any other transformation)\n",
    "        rescale=None,\n",
    "        # set function that will be applied on each input\n",
    "        preprocessing_function=None,\n",
    "        # image data format, either \"channels_first\" or \"channels_last\"\n",
    "        data_format=None,\n",
    "        # fraction of images reserved for validation (strictly between 0 and 1)\n",
    "        validation_split=0.0)"
   ]
  },
  {
   "cell_type": "code",
   "execution_count": 7,
   "metadata": {},
   "outputs": [
    {
     "ename": "MemoryError",
     "evalue": "",
     "output_type": "error",
     "traceback": [
      "\u001b[0;31m---------------------------------------------------------------------------\u001b[0m",
      "\u001b[0;31mMemoryError\u001b[0m                               Traceback (most recent call last)",
      "\u001b[0;32m<ipython-input-7-b7e284348210>\u001b[0m in \u001b[0;36m<module>\u001b[0;34m()\u001b[0m\n\u001b[0;32m----> 1\u001b[0;31m \u001b[0mdatagen\u001b[0m\u001b[0;34m.\u001b[0m\u001b[0mfit\u001b[0m\u001b[0;34m(\u001b[0m\u001b[0mx_train\u001b[0m\u001b[0;34m)\u001b[0m\u001b[0;34m\u001b[0m\u001b[0m\n\u001b[0m",
      "\u001b[0;32m/jet/var/python/lib/python3.6/site-packages/keras_preprocessing/image.py\u001b[0m in \u001b[0;36mfit\u001b[0;34m(self, x, augment, rounds, seed)\u001b[0m\n\u001b[1;32m   1197\u001b[0m             \u001b[0mseed\u001b[0m\u001b[0;34m:\u001b[0m \u001b[0mInt\u001b[0m \u001b[0;34m(\u001b[0m\u001b[0mdefault\u001b[0m\u001b[0;34m:\u001b[0m \u001b[0;32mNone\u001b[0m\u001b[0;34m)\u001b[0m\u001b[0;34m.\u001b[0m \u001b[0mRandom\u001b[0m \u001b[0mseed\u001b[0m\u001b[0;34m.\u001b[0m\u001b[0;34m\u001b[0m\u001b[0m\n\u001b[1;32m   1198\u001b[0m        \"\"\"\n\u001b[0;32m-> 1199\u001b[0;31m         \u001b[0mx\u001b[0m \u001b[0;34m=\u001b[0m \u001b[0mnp\u001b[0m\u001b[0;34m.\u001b[0m\u001b[0masarray\u001b[0m\u001b[0;34m(\u001b[0m\u001b[0mx\u001b[0m\u001b[0;34m,\u001b[0m \u001b[0mdtype\u001b[0m\u001b[0;34m=\u001b[0m\u001b[0mbackend\u001b[0m\u001b[0;34m.\u001b[0m\u001b[0mfloatx\u001b[0m\u001b[0;34m(\u001b[0m\u001b[0;34m)\u001b[0m\u001b[0;34m)\u001b[0m\u001b[0;34m\u001b[0m\u001b[0m\n\u001b[0m\u001b[1;32m   1200\u001b[0m         \u001b[0;32mif\u001b[0m \u001b[0mx\u001b[0m\u001b[0;34m.\u001b[0m\u001b[0mndim\u001b[0m \u001b[0;34m!=\u001b[0m \u001b[0;36m4\u001b[0m\u001b[0;34m:\u001b[0m\u001b[0;34m\u001b[0m\u001b[0m\n\u001b[1;32m   1201\u001b[0m             raise ValueError('Input to `.fit()` should have rank 4. '\n",
      "\u001b[0;32m/jet/var/python/lib/python3.6/site-packages/numpy-1.13.3-py3.6-linux-x86_64.egg/numpy/core/numeric.py\u001b[0m in \u001b[0;36masarray\u001b[0;34m(a, dtype, order)\u001b[0m\n\u001b[1;32m    529\u001b[0m \u001b[0;34m\u001b[0m\u001b[0m\n\u001b[1;32m    530\u001b[0m     \"\"\"\n\u001b[0;32m--> 531\u001b[0;31m     \u001b[0;32mreturn\u001b[0m \u001b[0marray\u001b[0m\u001b[0;34m(\u001b[0m\u001b[0ma\u001b[0m\u001b[0;34m,\u001b[0m \u001b[0mdtype\u001b[0m\u001b[0;34m,\u001b[0m \u001b[0mcopy\u001b[0m\u001b[0;34m=\u001b[0m\u001b[0;32mFalse\u001b[0m\u001b[0;34m,\u001b[0m \u001b[0morder\u001b[0m\u001b[0;34m=\u001b[0m\u001b[0morder\u001b[0m\u001b[0;34m)\u001b[0m\u001b[0;34m\u001b[0m\u001b[0m\n\u001b[0m\u001b[1;32m    532\u001b[0m \u001b[0;34m\u001b[0m\u001b[0m\n\u001b[1;32m    533\u001b[0m \u001b[0;34m\u001b[0m\u001b[0m\n",
      "\u001b[0;31mMemoryError\u001b[0m: "
     ]
    }
   ],
   "source": [
    "datagen.fit(x_train)"
   ]
  },
  {
   "cell_type": "code",
   "execution_count": 19,
   "metadata": {
    "scrolled": true
   },
   "outputs": [
    {
     "name": "stdout",
     "output_type": "stream",
     "text": [
      "Epoch 1/40\n",
      "521/521 [==============================] - 27s 52ms/step - loss: 0.8741 - acc: 0.6969 - val_loss: 0.8146 - val_acc: 0.7206\n",
      "Epoch 2/40\n",
      "521/521 [==============================] - 27s 51ms/step - loss: 0.8721 - acc: 0.6944 - val_loss: 0.8035 - val_acc: 0.7263\n",
      "Epoch 3/40\n",
      "521/521 [==============================] - 26s 51ms/step - loss: 0.8689 - acc: 0.6954 - val_loss: 0.8026 - val_acc: 0.7234\n",
      "Epoch 4/40\n",
      "521/521 [==============================] - 27s 51ms/step - loss: 0.8637 - acc: 0.6983 - val_loss: 0.7557 - val_acc: 0.7369\n",
      "Epoch 5/40\n",
      "521/521 [==============================] - 27s 51ms/step - loss: 0.8559 - acc: 0.6986 - val_loss: 0.7978 - val_acc: 0.7297\n",
      "Epoch 6/40\n",
      "521/521 [==============================] - 27s 52ms/step - loss: 0.8447 - acc: 0.7030 - val_loss: 0.7579 - val_acc: 0.7373\n",
      "Epoch 7/40\n",
      "521/521 [==============================] - 26s 50ms/step - loss: 0.8496 - acc: 0.7031 - val_loss: 0.8557 - val_acc: 0.7122\n",
      "Epoch 8/40\n",
      "521/521 [==============================] - 28s 54ms/step - loss: 0.8437 - acc: 0.7060 - val_loss: 0.7357 - val_acc: 0.7483\n",
      "Epoch 9/40\n",
      "521/521 [==============================] - 26s 51ms/step - loss: 0.8461 - acc: 0.7030 - val_loss: 0.8123 - val_acc: 0.7256\n",
      "Epoch 10/40\n",
      "521/521 [==============================] - 27s 51ms/step - loss: 0.8380 - acc: 0.7095 - val_loss: 0.7978 - val_acc: 0.7277\n",
      "Epoch 11/40\n",
      "521/521 [==============================] - 27s 51ms/step - loss: 0.8386 - acc: 0.7078 - val_loss: 0.8082 - val_acc: 0.7266\n",
      "Epoch 12/40\n",
      "521/521 [==============================] - 27s 52ms/step - loss: 0.8296 - acc: 0.7101 - val_loss: 0.7697 - val_acc: 0.7375\n",
      "Epoch 13/40\n",
      "521/521 [==============================] - 26s 50ms/step - loss: 0.8288 - acc: 0.7109 - val_loss: 0.7377 - val_acc: 0.7464\n",
      "Epoch 14/40\n",
      "521/521 [==============================] - 26s 50ms/step - loss: 0.8182 - acc: 0.7171 - val_loss: 0.7409 - val_acc: 0.7498\n",
      "Epoch 15/40\n",
      "521/521 [==============================] - 26s 51ms/step - loss: 0.8228 - acc: 0.7126 - val_loss: 0.7920 - val_acc: 0.7328\n",
      "Epoch 16/40\n",
      "521/521 [==============================] - 26s 50ms/step - loss: 0.8200 - acc: 0.7162 - val_loss: 0.7651 - val_acc: 0.7425\n",
      "Epoch 17/40\n",
      "521/521 [==============================] - 27s 51ms/step - loss: 0.8151 - acc: 0.7154 - val_loss: 0.7063 - val_acc: 0.7618\n",
      "Epoch 18/40\n",
      "521/521 [==============================] - 27s 52ms/step - loss: 0.8118 - acc: 0.7190 - val_loss: 0.7560 - val_acc: 0.7439\n",
      "Epoch 19/40\n",
      "521/521 [==============================] - 27s 51ms/step - loss: 0.8120 - acc: 0.7181 - val_loss: 0.7842 - val_acc: 0.7331\n",
      "Epoch 20/40\n",
      "521/521 [==============================] - 27s 52ms/step - loss: 0.8083 - acc: 0.7189 - val_loss: 0.7226 - val_acc: 0.7565\n",
      "Epoch 21/40\n",
      "521/521 [==============================] - 27s 51ms/step - loss: 0.8022 - acc: 0.7218 - val_loss: 0.7610 - val_acc: 0.7461\n",
      "Epoch 22/40\n",
      "521/521 [==============================] - 26s 50ms/step - loss: 0.8025 - acc: 0.7205 - val_loss: 0.7717 - val_acc: 0.7430\n",
      "Epoch 23/40\n",
      "521/521 [==============================] - 27s 51ms/step - loss: 0.8012 - acc: 0.7226 - val_loss: 0.7413 - val_acc: 0.7518\n",
      "Epoch 24/40\n",
      "521/521 [==============================] - 27s 52ms/step - loss: 0.7992 - acc: 0.7243 - val_loss: 0.7200 - val_acc: 0.7554\n",
      "Epoch 25/40\n",
      "521/521 [==============================] - 26s 51ms/step - loss: 0.7938 - acc: 0.7244 - val_loss: 0.7609 - val_acc: 0.7474\n",
      "Epoch 26/40\n",
      "521/521 [==============================] - 27s 52ms/step - loss: 0.7964 - acc: 0.7250 - val_loss: 0.7637 - val_acc: 0.7418\n",
      "Epoch 27/40\n",
      "521/521 [==============================] - 27s 52ms/step - loss: 0.7990 - acc: 0.7227 - val_loss: 0.7126 - val_acc: 0.7577\n",
      "Epoch 28/40\n",
      "521/521 [==============================] - 27s 53ms/step - loss: 0.7890 - acc: 0.7269 - val_loss: 0.7091 - val_acc: 0.7630\n",
      "Epoch 29/40\n",
      "521/521 [==============================] - 27s 53ms/step - loss: 0.7898 - acc: 0.7283 - val_loss: 0.6717 - val_acc: 0.7732\n",
      "Epoch 30/40\n",
      "521/521 [==============================] - 27s 52ms/step - loss: 0.7881 - acc: 0.7290 - val_loss: 0.6887 - val_acc: 0.7675\n",
      "Epoch 31/40\n",
      "521/521 [==============================] - 27s 52ms/step - loss: 0.7838 - acc: 0.7301 - val_loss: 0.7102 - val_acc: 0.7611\n",
      "Epoch 32/40\n",
      "521/521 [==============================] - 27s 52ms/step - loss: 0.7816 - acc: 0.7303 - val_loss: 0.7009 - val_acc: 0.7597\n",
      "Epoch 33/40\n",
      "521/521 [==============================] - 27s 51ms/step - loss: 0.7815 - acc: 0.7302 - val_loss: 0.6757 - val_acc: 0.7705\n",
      "Epoch 34/40\n",
      "521/521 [==============================] - 26s 50ms/step - loss: 0.7756 - acc: 0.7308 - val_loss: 0.7882 - val_acc: 0.7417\n",
      "Epoch 35/40\n",
      "521/521 [==============================] - 26s 49ms/step - loss: 0.7825 - acc: 0.7281 - val_loss: 0.7199 - val_acc: 0.7563\n",
      "Epoch 36/40\n",
      "521/521 [==============================] - 31s 59ms/step - loss: 0.7741 - acc: 0.7320 - val_loss: 0.7093 - val_acc: 0.7579\n",
      "Epoch 37/40\n",
      "521/521 [==============================] - 26s 49ms/step - loss: 0.7683 - acc: 0.7360 - val_loss: 0.7538 - val_acc: 0.7484\n",
      "Epoch 38/40\n",
      "521/521 [==============================] - 26s 51ms/step - loss: 0.7708 - acc: 0.7334 - val_loss: 0.6836 - val_acc: 0.7696\n",
      "Epoch 39/40\n",
      "521/521 [==============================] - 28s 53ms/step - loss: 0.7690 - acc: 0.7354 - val_loss: 0.6884 - val_acc: 0.7659\n",
      "Epoch 40/40\n",
      "521/521 [==============================] - 34s 65ms/step - loss: 0.7695 - acc: 0.7353 - val_loss: 0.6772 - val_acc: 0.7699\n"
     ]
    }
   ],
   "source": [
    "history = myModel.fit_generator(datagen.flow(x_train, y_train,\n",
    "                                 batch_size=batch_size*3),\n",
    "                    epochs=40,\n",
    "                    validation_data=(x_test, y_test),\n",
    "                    workers=8)\n"
   ]
  },
  {
   "cell_type": "code",
   "execution_count": 20,
   "metadata": {},
   "outputs": [],
   "source": [
    "if not os.path.isdir(\"./models\"):\n",
    "    os.makedirs(\"./models\")\n",
    "myModel_save_path = \"./models/model1.hdf5\"\n",
    "myModel.save(myModel_save_path)"
   ]
  },
  {
   "cell_type": "code",
   "execution_count": 21,
   "metadata": {},
   "outputs": [
    {
     "name": "stdout",
     "output_type": "stream",
     "text": [
      "10000/10000 [==============================] - 1s 109us/step\n",
      "Test loss: 0.67722836132\n",
      "Test accuracy: 0.7699\n"
     ]
    }
   ],
   "source": [
    "scores = myModel.evaluate(x_test, y_test, verbose=1)\n",
    "print('Test loss:', scores[0])\n",
    "print('Test accuracy:', scores[1])"
   ]
  },
  {
   "cell_type": "code",
   "execution_count": 22,
   "metadata": {},
   "outputs": [
    {
     "data": {
      "image/png": "[encoded data removed]",
      "text/plain": [
       "<Figure size 432x288 with 1 Axes>"
      ]
     },
     "metadata": {},
     "output_type": "display_data"
    }
   ],
   "source": [
    "# Plot training & validation loss values\n",
    "plt.plot(history.history['loss'])\n",
    "plt.plot(history.history['val_loss'])\n",
    "plt.title('Model loss')\n",
    "plt.ylabel('Loss')\n",
    "plt.xlabel('Epoch')\n",
    "plt.legend(['Train', 'Test'], loc='upper left')\n",
    "plt.show()"
   ]
  },
  {
   "cell_type": "markdown",
   "metadata": {},
   "source": [
    "### Data Augmentation Visualization"
   ]
  },
  {
   "cell_type": "code",
   "execution_count": null,
   "metadata": {
    "scrolled": false
   },
   "outputs": [],
   "source": [
    "!ls -a\n",
    "!echo \"\"\n",
    "!rm -rf ./augmented_pictures/\n",
    "!echo \"\"\n",
    "!ls -a"
   ]
  },
  {
   "cell_type": "code",
   "execution_count": 24,
   "metadata": {},
   "outputs": [],
   "source": [
    "#Visualize some results of data augmentation\n",
    "import matplotlib.pyplot as plt\n",
    "import PIL\n",
    "\n",
    "def output_augmented(num):\n",
    "    img = None\n",
    "    sub_img= None\n",
    "    name_list = None\n",
    "\n",
    "    SAVE_PATH = \"./augmented_pictures/\"\n",
    "\n",
    "    if not os.path.isdir(SAVE_PATH):\n",
    "        os.makedirs(SAVE_PATH)\n",
    "\n",
    "    gen_data = datagen.flow(x_train, \n",
    "                                           batch_size=1, \n",
    "                                           shuffle=False, \n",
    "                                           save_to_dir=SAVE_PATH,\n",
    "                                           save_prefix='gen', )\n",
    "    for i in range(9):\n",
    "        gen_data.next() \n",
    "    \n",
    "# name_list = os.listdir(SAVE_PATH)\n",
    "# # print(name_list)\n",
    "# fig = plt.figure()\n",
    "\n",
    "# for i in range(len(name_list)):\n",
    "#     img = PIL.Image.open(SAVE_PATH+name_list[i])\n",
    "#     sub_img = fig.add_subplot(331 + i)\n",
    "#     sub_img.imshow(img)\n",
    "    \n",
    "# plt.show()\n",
    "\n",
    "    "
   ]
  },
  {
   "cell_type": "code",
   "execution_count": null,
   "metadata": {},
   "outputs": [],
   "source": [
    "for i in range(3):\n",
    "    output_augmented(i)\n",
    "    name_list = os.listdir(SAVE_PATH)\n",
    "    fig = plt.figure()\n",
    "    for i in range(len(name_list)):\n",
    "    img = PIL.Image.open(SAVE_PATH+name_list[i])\n",
    "    sub_img = fig.add_subplot(331 + i)\n",
    "    sub_img.imshow(img)\n",
    "    "
   ]
  }
 ],
 "metadata": {
  "kernelspec": {
   "display_name": "Python 3",
   "language": "python",
   "name": "python3"
  },
  "language_info": {
   "codemirror_mode": {
    "name": "ipython",
    "version": 3
   },
   "file_extension": ".py",
   "mimetype": "text/x-python",
   "name": "python",
   "nbconvert_exporter": "python",
   "pygments_lexer": "ipython3",
   "version": "3.6.3"
  }
 },
 "nbformat": 4,
 "nbformat_minor": 2
}
